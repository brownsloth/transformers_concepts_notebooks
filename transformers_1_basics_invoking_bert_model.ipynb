{
  "nbformat": 4,
  "nbformat_minor": 0,
  "metadata": {
    "colab": {
      "provenance": [],
      "authorship_tag": "ABX9TyMOC9PdND8eR59ASRlc5H5O",
      "include_colab_link": true
    },
    "kernelspec": {
      "name": "python3",
      "display_name": "Python 3"
    },
    "language_info": {
      "name": "python"
    },
    "widgets": {
      "application/vnd.jupyter.widget-state+json": {
        "33a85747422d40a886fd006f7d90303c": {
          "model_module": "@jupyter-widgets/controls",
          "model_name": "HBoxModel",
          "model_module_version": "1.5.0",
          "state": {
            "_dom_classes": [],
            "_model_module": "@jupyter-widgets/controls",
            "_model_module_version": "1.5.0",
            "_model_name": "HBoxModel",
            "_view_count": null,
            "_view_module": "@jupyter-widgets/controls",
            "_view_module_version": "1.5.0",
            "_view_name": "HBoxView",
            "box_style": "",
            "children": [
              "IPY_MODEL_3dbc976cb92e4142b5b112198093d036",
              "IPY_MODEL_b4e441c331fe4378addc252b65fdd283",
              "IPY_MODEL_1ef4c120928f460396d73fb535f70867"
            ],
            "layout": "IPY_MODEL_613b15b4d74648a2b0feb59a1a7b26ef"
          }
        },
        "3dbc976cb92e4142b5b112198093d036": {
          "model_module": "@jupyter-widgets/controls",
          "model_name": "HTMLModel",
          "model_module_version": "1.5.0",
          "state": {
            "_dom_classes": [],
            "_model_module": "@jupyter-widgets/controls",
            "_model_module_version": "1.5.0",
            "_model_name": "HTMLModel",
            "_view_count": null,
            "_view_module": "@jupyter-widgets/controls",
            "_view_module_version": "1.5.0",
            "_view_name": "HTMLView",
            "description": "",
            "description_tooltip": null,
            "layout": "IPY_MODEL_ecc836d8e17646bf8e7a4ecbad9004c5",
            "placeholder": "​",
            "style": "IPY_MODEL_9f79b9744d56471c9991c8885c9a722c",
            "value": "tokenizer_config.json: 100%"
          }
        },
        "b4e441c331fe4378addc252b65fdd283": {
          "model_module": "@jupyter-widgets/controls",
          "model_name": "FloatProgressModel",
          "model_module_version": "1.5.0",
          "state": {
            "_dom_classes": [],
            "_model_module": "@jupyter-widgets/controls",
            "_model_module_version": "1.5.0",
            "_model_name": "FloatProgressModel",
            "_view_count": null,
            "_view_module": "@jupyter-widgets/controls",
            "_view_module_version": "1.5.0",
            "_view_name": "ProgressView",
            "bar_style": "success",
            "description": "",
            "description_tooltip": null,
            "layout": "IPY_MODEL_79643e80fd344bc2810b211b60e9303b",
            "max": 48,
            "min": 0,
            "orientation": "horizontal",
            "style": "IPY_MODEL_5b33a9ba84294f16b18543ae91363ff0",
            "value": 48
          }
        },
        "1ef4c120928f460396d73fb535f70867": {
          "model_module": "@jupyter-widgets/controls",
          "model_name": "HTMLModel",
          "model_module_version": "1.5.0",
          "state": {
            "_dom_classes": [],
            "_model_module": "@jupyter-widgets/controls",
            "_model_module_version": "1.5.0",
            "_model_name": "HTMLModel",
            "_view_count": null,
            "_view_module": "@jupyter-widgets/controls",
            "_view_module_version": "1.5.0",
            "_view_name": "HTMLView",
            "description": "",
            "description_tooltip": null,
            "layout": "IPY_MODEL_9062ad2f72b841559cd075a1f78f4817",
            "placeholder": "​",
            "style": "IPY_MODEL_422efda1c5b84c1f883e182eab1b7fea",
            "value": " 48.0/48.0 [00:00&lt;00:00, 3.59kB/s]"
          }
        },
        "613b15b4d74648a2b0feb59a1a7b26ef": {
          "model_module": "@jupyter-widgets/base",
          "model_name": "LayoutModel",
          "model_module_version": "1.2.0",
          "state": {
            "_model_module": "@jupyter-widgets/base",
            "_model_module_version": "1.2.0",
            "_model_name": "LayoutModel",
            "_view_count": null,
            "_view_module": "@jupyter-widgets/base",
            "_view_module_version": "1.2.0",
            "_view_name": "LayoutView",
            "align_content": null,
            "align_items": null,
            "align_self": null,
            "border": null,
            "bottom": null,
            "display": null,
            "flex": null,
            "flex_flow": null,
            "grid_area": null,
            "grid_auto_columns": null,
            "grid_auto_flow": null,
            "grid_auto_rows": null,
            "grid_column": null,
            "grid_gap": null,
            "grid_row": null,
            "grid_template_areas": null,
            "grid_template_columns": null,
            "grid_template_rows": null,
            "height": null,
            "justify_content": null,
            "justify_items": null,
            "left": null,
            "margin": null,
            "max_height": null,
            "max_width": null,
            "min_height": null,
            "min_width": null,
            "object_fit": null,
            "object_position": null,
            "order": null,
            "overflow": null,
            "overflow_x": null,
            "overflow_y": null,
            "padding": null,
            "right": null,
            "top": null,
            "visibility": null,
            "width": null
          }
        },
        "ecc836d8e17646bf8e7a4ecbad9004c5": {
          "model_module": "@jupyter-widgets/base",
          "model_name": "LayoutModel",
          "model_module_version": "1.2.0",
          "state": {
            "_model_module": "@jupyter-widgets/base",
            "_model_module_version": "1.2.0",
            "_model_name": "LayoutModel",
            "_view_count": null,
            "_view_module": "@jupyter-widgets/base",
            "_view_module_version": "1.2.0",
            "_view_name": "LayoutView",
            "align_content": null,
            "align_items": null,
            "align_self": null,
            "border": null,
            "bottom": null,
            "display": null,
            "flex": null,
            "flex_flow": null,
            "grid_area": null,
            "grid_auto_columns": null,
            "grid_auto_flow": null,
            "grid_auto_rows": null,
            "grid_column": null,
            "grid_gap": null,
            "grid_row": null,
            "grid_template_areas": null,
            "grid_template_columns": null,
            "grid_template_rows": null,
            "height": null,
            "justify_content": null,
            "justify_items": null,
            "left": null,
            "margin": null,
            "max_height": null,
            "max_width": null,
            "min_height": null,
            "min_width": null,
            "object_fit": null,
            "object_position": null,
            "order": null,
            "overflow": null,
            "overflow_x": null,
            "overflow_y": null,
            "padding": null,
            "right": null,
            "top": null,
            "visibility": null,
            "width": null
          }
        },
        "9f79b9744d56471c9991c8885c9a722c": {
          "model_module": "@jupyter-widgets/controls",
          "model_name": "DescriptionStyleModel",
          "model_module_version": "1.5.0",
          "state": {
            "_model_module": "@jupyter-widgets/controls",
            "_model_module_version": "1.5.0",
            "_model_name": "DescriptionStyleModel",
            "_view_count": null,
            "_view_module": "@jupyter-widgets/base",
            "_view_module_version": "1.2.0",
            "_view_name": "StyleView",
            "description_width": ""
          }
        },
        "79643e80fd344bc2810b211b60e9303b": {
          "model_module": "@jupyter-widgets/base",
          "model_name": "LayoutModel",
          "model_module_version": "1.2.0",
          "state": {
            "_model_module": "@jupyter-widgets/base",
            "_model_module_version": "1.2.0",
            "_model_name": "LayoutModel",
            "_view_count": null,
            "_view_module": "@jupyter-widgets/base",
            "_view_module_version": "1.2.0",
            "_view_name": "LayoutView",
            "align_content": null,
            "align_items": null,
            "align_self": null,
            "border": null,
            "bottom": null,
            "display": null,
            "flex": null,
            "flex_flow": null,
            "grid_area": null,
            "grid_auto_columns": null,
            "grid_auto_flow": null,
            "grid_auto_rows": null,
            "grid_column": null,
            "grid_gap": null,
            "grid_row": null,
            "grid_template_areas": null,
            "grid_template_columns": null,
            "grid_template_rows": null,
            "height": null,
            "justify_content": null,
            "justify_items": null,
            "left": null,
            "margin": null,
            "max_height": null,
            "max_width": null,
            "min_height": null,
            "min_width": null,
            "object_fit": null,
            "object_position": null,
            "order": null,
            "overflow": null,
            "overflow_x": null,
            "overflow_y": null,
            "padding": null,
            "right": null,
            "top": null,
            "visibility": null,
            "width": null
          }
        },
        "5b33a9ba84294f16b18543ae91363ff0": {
          "model_module": "@jupyter-widgets/controls",
          "model_name": "ProgressStyleModel",
          "model_module_version": "1.5.0",
          "state": {
            "_model_module": "@jupyter-widgets/controls",
            "_model_module_version": "1.5.0",
            "_model_name": "ProgressStyleModel",
            "_view_count": null,
            "_view_module": "@jupyter-widgets/base",
            "_view_module_version": "1.2.0",
            "_view_name": "StyleView",
            "bar_color": null,
            "description_width": ""
          }
        },
        "9062ad2f72b841559cd075a1f78f4817": {
          "model_module": "@jupyter-widgets/base",
          "model_name": "LayoutModel",
          "model_module_version": "1.2.0",
          "state": {
            "_model_module": "@jupyter-widgets/base",
            "_model_module_version": "1.2.0",
            "_model_name": "LayoutModel",
            "_view_count": null,
            "_view_module": "@jupyter-widgets/base",
            "_view_module_version": "1.2.0",
            "_view_name": "LayoutView",
            "align_content": null,
            "align_items": null,
            "align_self": null,
            "border": null,
            "bottom": null,
            "display": null,
            "flex": null,
            "flex_flow": null,
            "grid_area": null,
            "grid_auto_columns": null,
            "grid_auto_flow": null,
            "grid_auto_rows": null,
            "grid_column": null,
            "grid_gap": null,
            "grid_row": null,
            "grid_template_areas": null,
            "grid_template_columns": null,
            "grid_template_rows": null,
            "height": null,
            "justify_content": null,
            "justify_items": null,
            "left": null,
            "margin": null,
            "max_height": null,
            "max_width": null,
            "min_height": null,
            "min_width": null,
            "object_fit": null,
            "object_position": null,
            "order": null,
            "overflow": null,
            "overflow_x": null,
            "overflow_y": null,
            "padding": null,
            "right": null,
            "top": null,
            "visibility": null,
            "width": null
          }
        },
        "422efda1c5b84c1f883e182eab1b7fea": {
          "model_module": "@jupyter-widgets/controls",
          "model_name": "DescriptionStyleModel",
          "model_module_version": "1.5.0",
          "state": {
            "_model_module": "@jupyter-widgets/controls",
            "_model_module_version": "1.5.0",
            "_model_name": "DescriptionStyleModel",
            "_view_count": null,
            "_view_module": "@jupyter-widgets/base",
            "_view_module_version": "1.2.0",
            "_view_name": "StyleView",
            "description_width": ""
          }
        },
        "b38a8ed797a54821acadcad0c1e49004": {
          "model_module": "@jupyter-widgets/controls",
          "model_name": "HBoxModel",
          "model_module_version": "1.5.0",
          "state": {
            "_dom_classes": [],
            "_model_module": "@jupyter-widgets/controls",
            "_model_module_version": "1.5.0",
            "_model_name": "HBoxModel",
            "_view_count": null,
            "_view_module": "@jupyter-widgets/controls",
            "_view_module_version": "1.5.0",
            "_view_name": "HBoxView",
            "box_style": "",
            "children": [
              "IPY_MODEL_88d0a6764dac4d15baf1467cae9adb0c",
              "IPY_MODEL_3acea1d26cff4c46b2264cea13b32ab3",
              "IPY_MODEL_011e7f40057e4af6960e2611e227ec37"
            ],
            "layout": "IPY_MODEL_5c3460e6411c46f89ce879644fd5b8ff"
          }
        },
        "88d0a6764dac4d15baf1467cae9adb0c": {
          "model_module": "@jupyter-widgets/controls",
          "model_name": "HTMLModel",
          "model_module_version": "1.5.0",
          "state": {
            "_dom_classes": [],
            "_model_module": "@jupyter-widgets/controls",
            "_model_module_version": "1.5.0",
            "_model_name": "HTMLModel",
            "_view_count": null,
            "_view_module": "@jupyter-widgets/controls",
            "_view_module_version": "1.5.0",
            "_view_name": "HTMLView",
            "description": "",
            "description_tooltip": null,
            "layout": "IPY_MODEL_14bb0f0f53ad4d4e8eb81b544d9313b6",
            "placeholder": "​",
            "style": "IPY_MODEL_c8d18a340e164191aa4f0ed751fcb0e8",
            "value": "vocab.txt: 100%"
          }
        },
        "3acea1d26cff4c46b2264cea13b32ab3": {
          "model_module": "@jupyter-widgets/controls",
          "model_name": "FloatProgressModel",
          "model_module_version": "1.5.0",
          "state": {
            "_dom_classes": [],
            "_model_module": "@jupyter-widgets/controls",
            "_model_module_version": "1.5.0",
            "_model_name": "FloatProgressModel",
            "_view_count": null,
            "_view_module": "@jupyter-widgets/controls",
            "_view_module_version": "1.5.0",
            "_view_name": "ProgressView",
            "bar_style": "success",
            "description": "",
            "description_tooltip": null,
            "layout": "IPY_MODEL_7ddd0ac7cc5d4682b8206af0d2436d7b",
            "max": 231508,
            "min": 0,
            "orientation": "horizontal",
            "style": "IPY_MODEL_91f3055fe1a54bc79dfd9da374bd9cf7",
            "value": 231508
          }
        },
        "011e7f40057e4af6960e2611e227ec37": {
          "model_module": "@jupyter-widgets/controls",
          "model_name": "HTMLModel",
          "model_module_version": "1.5.0",
          "state": {
            "_dom_classes": [],
            "_model_module": "@jupyter-widgets/controls",
            "_model_module_version": "1.5.0",
            "_model_name": "HTMLModel",
            "_view_count": null,
            "_view_module": "@jupyter-widgets/controls",
            "_view_module_version": "1.5.0",
            "_view_name": "HTMLView",
            "description": "",
            "description_tooltip": null,
            "layout": "IPY_MODEL_68a067abecbb493a83332675006a3a2f",
            "placeholder": "​",
            "style": "IPY_MODEL_71146e28f4e34802b35dce835a3729eb",
            "value": " 232k/232k [00:00&lt;00:00, 4.71MB/s]"
          }
        },
        "5c3460e6411c46f89ce879644fd5b8ff": {
          "model_module": "@jupyter-widgets/base",
          "model_name": "LayoutModel",
          "model_module_version": "1.2.0",
          "state": {
            "_model_module": "@jupyter-widgets/base",
            "_model_module_version": "1.2.0",
            "_model_name": "LayoutModel",
            "_view_count": null,
            "_view_module": "@jupyter-widgets/base",
            "_view_module_version": "1.2.0",
            "_view_name": "LayoutView",
            "align_content": null,
            "align_items": null,
            "align_self": null,
            "border": null,
            "bottom": null,
            "display": null,
            "flex": null,
            "flex_flow": null,
            "grid_area": null,
            "grid_auto_columns": null,
            "grid_auto_flow": null,
            "grid_auto_rows": null,
            "grid_column": null,
            "grid_gap": null,
            "grid_row": null,
            "grid_template_areas": null,
            "grid_template_columns": null,
            "grid_template_rows": null,
            "height": null,
            "justify_content": null,
            "justify_items": null,
            "left": null,
            "margin": null,
            "max_height": null,
            "max_width": null,
            "min_height": null,
            "min_width": null,
            "object_fit": null,
            "object_position": null,
            "order": null,
            "overflow": null,
            "overflow_x": null,
            "overflow_y": null,
            "padding": null,
            "right": null,
            "top": null,
            "visibility": null,
            "width": null
          }
        },
        "14bb0f0f53ad4d4e8eb81b544d9313b6": {
          "model_module": "@jupyter-widgets/base",
          "model_name": "LayoutModel",
          "model_module_version": "1.2.0",
          "state": {
            "_model_module": "@jupyter-widgets/base",
            "_model_module_version": "1.2.0",
            "_model_name": "LayoutModel",
            "_view_count": null,
            "_view_module": "@jupyter-widgets/base",
            "_view_module_version": "1.2.0",
            "_view_name": "LayoutView",
            "align_content": null,
            "align_items": null,
            "align_self": null,
            "border": null,
            "bottom": null,
            "display": null,
            "flex": null,
            "flex_flow": null,
            "grid_area": null,
            "grid_auto_columns": null,
            "grid_auto_flow": null,
            "grid_auto_rows": null,
            "grid_column": null,
            "grid_gap": null,
            "grid_row": null,
            "grid_template_areas": null,
            "grid_template_columns": null,
            "grid_template_rows": null,
            "height": null,
            "justify_content": null,
            "justify_items": null,
            "left": null,
            "margin": null,
            "max_height": null,
            "max_width": null,
            "min_height": null,
            "min_width": null,
            "object_fit": null,
            "object_position": null,
            "order": null,
            "overflow": null,
            "overflow_x": null,
            "overflow_y": null,
            "padding": null,
            "right": null,
            "top": null,
            "visibility": null,
            "width": null
          }
        },
        "c8d18a340e164191aa4f0ed751fcb0e8": {
          "model_module": "@jupyter-widgets/controls",
          "model_name": "DescriptionStyleModel",
          "model_module_version": "1.5.0",
          "state": {
            "_model_module": "@jupyter-widgets/controls",
            "_model_module_version": "1.5.0",
            "_model_name": "DescriptionStyleModel",
            "_view_count": null,
            "_view_module": "@jupyter-widgets/base",
            "_view_module_version": "1.2.0",
            "_view_name": "StyleView",
            "description_width": ""
          }
        },
        "7ddd0ac7cc5d4682b8206af0d2436d7b": {
          "model_module": "@jupyter-widgets/base",
          "model_name": "LayoutModel",
          "model_module_version": "1.2.0",
          "state": {
            "_model_module": "@jupyter-widgets/base",
            "_model_module_version": "1.2.0",
            "_model_name": "LayoutModel",
            "_view_count": null,
            "_view_module": "@jupyter-widgets/base",
            "_view_module_version": "1.2.0",
            "_view_name": "LayoutView",
            "align_content": null,
            "align_items": null,
            "align_self": null,
            "border": null,
            "bottom": null,
            "display": null,
            "flex": null,
            "flex_flow": null,
            "grid_area": null,
            "grid_auto_columns": null,
            "grid_auto_flow": null,
            "grid_auto_rows": null,
            "grid_column": null,
            "grid_gap": null,
            "grid_row": null,
            "grid_template_areas": null,
            "grid_template_columns": null,
            "grid_template_rows": null,
            "height": null,
            "justify_content": null,
            "justify_items": null,
            "left": null,
            "margin": null,
            "max_height": null,
            "max_width": null,
            "min_height": null,
            "min_width": null,
            "object_fit": null,
            "object_position": null,
            "order": null,
            "overflow": null,
            "overflow_x": null,
            "overflow_y": null,
            "padding": null,
            "right": null,
            "top": null,
            "visibility": null,
            "width": null
          }
        },
        "91f3055fe1a54bc79dfd9da374bd9cf7": {
          "model_module": "@jupyter-widgets/controls",
          "model_name": "ProgressStyleModel",
          "model_module_version": "1.5.0",
          "state": {
            "_model_module": "@jupyter-widgets/controls",
            "_model_module_version": "1.5.0",
            "_model_name": "ProgressStyleModel",
            "_view_count": null,
            "_view_module": "@jupyter-widgets/base",
            "_view_module_version": "1.2.0",
            "_view_name": "StyleView",
            "bar_color": null,
            "description_width": ""
          }
        },
        "68a067abecbb493a83332675006a3a2f": {
          "model_module": "@jupyter-widgets/base",
          "model_name": "LayoutModel",
          "model_module_version": "1.2.0",
          "state": {
            "_model_module": "@jupyter-widgets/base",
            "_model_module_version": "1.2.0",
            "_model_name": "LayoutModel",
            "_view_count": null,
            "_view_module": "@jupyter-widgets/base",
            "_view_module_version": "1.2.0",
            "_view_name": "LayoutView",
            "align_content": null,
            "align_items": null,
            "align_self": null,
            "border": null,
            "bottom": null,
            "display": null,
            "flex": null,
            "flex_flow": null,
            "grid_area": null,
            "grid_auto_columns": null,
            "grid_auto_flow": null,
            "grid_auto_rows": null,
            "grid_column": null,
            "grid_gap": null,
            "grid_row": null,
            "grid_template_areas": null,
            "grid_template_columns": null,
            "grid_template_rows": null,
            "height": null,
            "justify_content": null,
            "justify_items": null,
            "left": null,
            "margin": null,
            "max_height": null,
            "max_width": null,
            "min_height": null,
            "min_width": null,
            "object_fit": null,
            "object_position": null,
            "order": null,
            "overflow": null,
            "overflow_x": null,
            "overflow_y": null,
            "padding": null,
            "right": null,
            "top": null,
            "visibility": null,
            "width": null
          }
        },
        "71146e28f4e34802b35dce835a3729eb": {
          "model_module": "@jupyter-widgets/controls",
          "model_name": "DescriptionStyleModel",
          "model_module_version": "1.5.0",
          "state": {
            "_model_module": "@jupyter-widgets/controls",
            "_model_module_version": "1.5.0",
            "_model_name": "DescriptionStyleModel",
            "_view_count": null,
            "_view_module": "@jupyter-widgets/base",
            "_view_module_version": "1.2.0",
            "_view_name": "StyleView",
            "description_width": ""
          }
        },
        "bcaf2dd7b2aa48e8af2fc4a42ba375e7": {
          "model_module": "@jupyter-widgets/controls",
          "model_name": "HBoxModel",
          "model_module_version": "1.5.0",
          "state": {
            "_dom_classes": [],
            "_model_module": "@jupyter-widgets/controls",
            "_model_module_version": "1.5.0",
            "_model_name": "HBoxModel",
            "_view_count": null,
            "_view_module": "@jupyter-widgets/controls",
            "_view_module_version": "1.5.0",
            "_view_name": "HBoxView",
            "box_style": "",
            "children": [
              "IPY_MODEL_73354cfdef694136859c090d764419d3",
              "IPY_MODEL_5f72e615c81c40b2a081a73a646ab55d",
              "IPY_MODEL_0c1b6e4b9c7243c79917e7e2f475b459"
            ],
            "layout": "IPY_MODEL_55f655b45fc0461596dccf54981ea1a2"
          }
        },
        "73354cfdef694136859c090d764419d3": {
          "model_module": "@jupyter-widgets/controls",
          "model_name": "HTMLModel",
          "model_module_version": "1.5.0",
          "state": {
            "_dom_classes": [],
            "_model_module": "@jupyter-widgets/controls",
            "_model_module_version": "1.5.0",
            "_model_name": "HTMLModel",
            "_view_count": null,
            "_view_module": "@jupyter-widgets/controls",
            "_view_module_version": "1.5.0",
            "_view_name": "HTMLView",
            "description": "",
            "description_tooltip": null,
            "layout": "IPY_MODEL_55e49dbaba8d447581ed1604be6f1dc9",
            "placeholder": "​",
            "style": "IPY_MODEL_5ffcc58149be43ecb59147d2623c50e1",
            "value": "tokenizer.json: 100%"
          }
        },
        "5f72e615c81c40b2a081a73a646ab55d": {
          "model_module": "@jupyter-widgets/controls",
          "model_name": "FloatProgressModel",
          "model_module_version": "1.5.0",
          "state": {
            "_dom_classes": [],
            "_model_module": "@jupyter-widgets/controls",
            "_model_module_version": "1.5.0",
            "_model_name": "FloatProgressModel",
            "_view_count": null,
            "_view_module": "@jupyter-widgets/controls",
            "_view_module_version": "1.5.0",
            "_view_name": "ProgressView",
            "bar_style": "success",
            "description": "",
            "description_tooltip": null,
            "layout": "IPY_MODEL_c566226af8b148cd93fe4baeb567f2de",
            "max": 466062,
            "min": 0,
            "orientation": "horizontal",
            "style": "IPY_MODEL_431b7fce26e24f93ae8582a9aa820d71",
            "value": 466062
          }
        },
        "0c1b6e4b9c7243c79917e7e2f475b459": {
          "model_module": "@jupyter-widgets/controls",
          "model_name": "HTMLModel",
          "model_module_version": "1.5.0",
          "state": {
            "_dom_classes": [],
            "_model_module": "@jupyter-widgets/controls",
            "_model_module_version": "1.5.0",
            "_model_name": "HTMLModel",
            "_view_count": null,
            "_view_module": "@jupyter-widgets/controls",
            "_view_module_version": "1.5.0",
            "_view_name": "HTMLView",
            "description": "",
            "description_tooltip": null,
            "layout": "IPY_MODEL_e829cd0f2c004fad93e121a3e52d9978",
            "placeholder": "​",
            "style": "IPY_MODEL_fb537e55e18849eb9acbd7dfc7c66c32",
            "value": " 466k/466k [00:00&lt;00:00, 11.0MB/s]"
          }
        },
        "55f655b45fc0461596dccf54981ea1a2": {
          "model_module": "@jupyter-widgets/base",
          "model_name": "LayoutModel",
          "model_module_version": "1.2.0",
          "state": {
            "_model_module": "@jupyter-widgets/base",
            "_model_module_version": "1.2.0",
            "_model_name": "LayoutModel",
            "_view_count": null,
            "_view_module": "@jupyter-widgets/base",
            "_view_module_version": "1.2.0",
            "_view_name": "LayoutView",
            "align_content": null,
            "align_items": null,
            "align_self": null,
            "border": null,
            "bottom": null,
            "display": null,
            "flex": null,
            "flex_flow": null,
            "grid_area": null,
            "grid_auto_columns": null,
            "grid_auto_flow": null,
            "grid_auto_rows": null,
            "grid_column": null,
            "grid_gap": null,
            "grid_row": null,
            "grid_template_areas": null,
            "grid_template_columns": null,
            "grid_template_rows": null,
            "height": null,
            "justify_content": null,
            "justify_items": null,
            "left": null,
            "margin": null,
            "max_height": null,
            "max_width": null,
            "min_height": null,
            "min_width": null,
            "object_fit": null,
            "object_position": null,
            "order": null,
            "overflow": null,
            "overflow_x": null,
            "overflow_y": null,
            "padding": null,
            "right": null,
            "top": null,
            "visibility": null,
            "width": null
          }
        },
        "55e49dbaba8d447581ed1604be6f1dc9": {
          "model_module": "@jupyter-widgets/base",
          "model_name": "LayoutModel",
          "model_module_version": "1.2.0",
          "state": {
            "_model_module": "@jupyter-widgets/base",
            "_model_module_version": "1.2.0",
            "_model_name": "LayoutModel",
            "_view_count": null,
            "_view_module": "@jupyter-widgets/base",
            "_view_module_version": "1.2.0",
            "_view_name": "LayoutView",
            "align_content": null,
            "align_items": null,
            "align_self": null,
            "border": null,
            "bottom": null,
            "display": null,
            "flex": null,
            "flex_flow": null,
            "grid_area": null,
            "grid_auto_columns": null,
            "grid_auto_flow": null,
            "grid_auto_rows": null,
            "grid_column": null,
            "grid_gap": null,
            "grid_row": null,
            "grid_template_areas": null,
            "grid_template_columns": null,
            "grid_template_rows": null,
            "height": null,
            "justify_content": null,
            "justify_items": null,
            "left": null,
            "margin": null,
            "max_height": null,
            "max_width": null,
            "min_height": null,
            "min_width": null,
            "object_fit": null,
            "object_position": null,
            "order": null,
            "overflow": null,
            "overflow_x": null,
            "overflow_y": null,
            "padding": null,
            "right": null,
            "top": null,
            "visibility": null,
            "width": null
          }
        },
        "5ffcc58149be43ecb59147d2623c50e1": {
          "model_module": "@jupyter-widgets/controls",
          "model_name": "DescriptionStyleModel",
          "model_module_version": "1.5.0",
          "state": {
            "_model_module": "@jupyter-widgets/controls",
            "_model_module_version": "1.5.0",
            "_model_name": "DescriptionStyleModel",
            "_view_count": null,
            "_view_module": "@jupyter-widgets/base",
            "_view_module_version": "1.2.0",
            "_view_name": "StyleView",
            "description_width": ""
          }
        },
        "c566226af8b148cd93fe4baeb567f2de": {
          "model_module": "@jupyter-widgets/base",
          "model_name": "LayoutModel",
          "model_module_version": "1.2.0",
          "state": {
            "_model_module": "@jupyter-widgets/base",
            "_model_module_version": "1.2.0",
            "_model_name": "LayoutModel",
            "_view_count": null,
            "_view_module": "@jupyter-widgets/base",
            "_view_module_version": "1.2.0",
            "_view_name": "LayoutView",
            "align_content": null,
            "align_items": null,
            "align_self": null,
            "border": null,
            "bottom": null,
            "display": null,
            "flex": null,
            "flex_flow": null,
            "grid_area": null,
            "grid_auto_columns": null,
            "grid_auto_flow": null,
            "grid_auto_rows": null,
            "grid_column": null,
            "grid_gap": null,
            "grid_row": null,
            "grid_template_areas": null,
            "grid_template_columns": null,
            "grid_template_rows": null,
            "height": null,
            "justify_content": null,
            "justify_items": null,
            "left": null,
            "margin": null,
            "max_height": null,
            "max_width": null,
            "min_height": null,
            "min_width": null,
            "object_fit": null,
            "object_position": null,
            "order": null,
            "overflow": null,
            "overflow_x": null,
            "overflow_y": null,
            "padding": null,
            "right": null,
            "top": null,
            "visibility": null,
            "width": null
          }
        },
        "431b7fce26e24f93ae8582a9aa820d71": {
          "model_module": "@jupyter-widgets/controls",
          "model_name": "ProgressStyleModel",
          "model_module_version": "1.5.0",
          "state": {
            "_model_module": "@jupyter-widgets/controls",
            "_model_module_version": "1.5.0",
            "_model_name": "ProgressStyleModel",
            "_view_count": null,
            "_view_module": "@jupyter-widgets/base",
            "_view_module_version": "1.2.0",
            "_view_name": "StyleView",
            "bar_color": null,
            "description_width": ""
          }
        },
        "e829cd0f2c004fad93e121a3e52d9978": {
          "model_module": "@jupyter-widgets/base",
          "model_name": "LayoutModel",
          "model_module_version": "1.2.0",
          "state": {
            "_model_module": "@jupyter-widgets/base",
            "_model_module_version": "1.2.0",
            "_model_name": "LayoutModel",
            "_view_count": null,
            "_view_module": "@jupyter-widgets/base",
            "_view_module_version": "1.2.0",
            "_view_name": "LayoutView",
            "align_content": null,
            "align_items": null,
            "align_self": null,
            "border": null,
            "bottom": null,
            "display": null,
            "flex": null,
            "flex_flow": null,
            "grid_area": null,
            "grid_auto_columns": null,
            "grid_auto_flow": null,
            "grid_auto_rows": null,
            "grid_column": null,
            "grid_gap": null,
            "grid_row": null,
            "grid_template_areas": null,
            "grid_template_columns": null,
            "grid_template_rows": null,
            "height": null,
            "justify_content": null,
            "justify_items": null,
            "left": null,
            "margin": null,
            "max_height": null,
            "max_width": null,
            "min_height": null,
            "min_width": null,
            "object_fit": null,
            "object_position": null,
            "order": null,
            "overflow": null,
            "overflow_x": null,
            "overflow_y": null,
            "padding": null,
            "right": null,
            "top": null,
            "visibility": null,
            "width": null
          }
        },
        "fb537e55e18849eb9acbd7dfc7c66c32": {
          "model_module": "@jupyter-widgets/controls",
          "model_name": "DescriptionStyleModel",
          "model_module_version": "1.5.0",
          "state": {
            "_model_module": "@jupyter-widgets/controls",
            "_model_module_version": "1.5.0",
            "_model_name": "DescriptionStyleModel",
            "_view_count": null,
            "_view_module": "@jupyter-widgets/base",
            "_view_module_version": "1.2.0",
            "_view_name": "StyleView",
            "description_width": ""
          }
        },
        "9b873fe934124ae1b1672c66923cc2b8": {
          "model_module": "@jupyter-widgets/controls",
          "model_name": "HBoxModel",
          "model_module_version": "1.5.0",
          "state": {
            "_dom_classes": [],
            "_model_module": "@jupyter-widgets/controls",
            "_model_module_version": "1.5.0",
            "_model_name": "HBoxModel",
            "_view_count": null,
            "_view_module": "@jupyter-widgets/controls",
            "_view_module_version": "1.5.0",
            "_view_name": "HBoxView",
            "box_style": "",
            "children": [
              "IPY_MODEL_91c908e657e24f84a902edd662c2ef3b",
              "IPY_MODEL_8c720aee097f4d5f94c2f00de0e294c0",
              "IPY_MODEL_67aeae540d30418e95e597adf7b1f44a"
            ],
            "layout": "IPY_MODEL_47ecdcd978af4b26930cd077aa3ec562"
          }
        },
        "91c908e657e24f84a902edd662c2ef3b": {
          "model_module": "@jupyter-widgets/controls",
          "model_name": "HTMLModel",
          "model_module_version": "1.5.0",
          "state": {
            "_dom_classes": [],
            "_model_module": "@jupyter-widgets/controls",
            "_model_module_version": "1.5.0",
            "_model_name": "HTMLModel",
            "_view_count": null,
            "_view_module": "@jupyter-widgets/controls",
            "_view_module_version": "1.5.0",
            "_view_name": "HTMLView",
            "description": "",
            "description_tooltip": null,
            "layout": "IPY_MODEL_47e8b6c602f1416da27a3b53b6fb51eb",
            "placeholder": "​",
            "style": "IPY_MODEL_a62b1e2efc78459fa5dc2d5529c4bc82",
            "value": "config.json: 100%"
          }
        },
        "8c720aee097f4d5f94c2f00de0e294c0": {
          "model_module": "@jupyter-widgets/controls",
          "model_name": "FloatProgressModel",
          "model_module_version": "1.5.0",
          "state": {
            "_dom_classes": [],
            "_model_module": "@jupyter-widgets/controls",
            "_model_module_version": "1.5.0",
            "_model_name": "FloatProgressModel",
            "_view_count": null,
            "_view_module": "@jupyter-widgets/controls",
            "_view_module_version": "1.5.0",
            "_view_name": "ProgressView",
            "bar_style": "success",
            "description": "",
            "description_tooltip": null,
            "layout": "IPY_MODEL_9e4bd0658182491e8b9dd87a960acb77",
            "max": 570,
            "min": 0,
            "orientation": "horizontal",
            "style": "IPY_MODEL_5a04d7ab88c445f5a6189511c8fd5c59",
            "value": 570
          }
        },
        "67aeae540d30418e95e597adf7b1f44a": {
          "model_module": "@jupyter-widgets/controls",
          "model_name": "HTMLModel",
          "model_module_version": "1.5.0",
          "state": {
            "_dom_classes": [],
            "_model_module": "@jupyter-widgets/controls",
            "_model_module_version": "1.5.0",
            "_model_name": "HTMLModel",
            "_view_count": null,
            "_view_module": "@jupyter-widgets/controls",
            "_view_module_version": "1.5.0",
            "_view_name": "HTMLView",
            "description": "",
            "description_tooltip": null,
            "layout": "IPY_MODEL_398c76a57df64b63a94ba3ffa5a9f766",
            "placeholder": "​",
            "style": "IPY_MODEL_6a7c31caa4a64687a3c36729cd66f343",
            "value": " 570/570 [00:00&lt;00:00, 31.9kB/s]"
          }
        },
        "47ecdcd978af4b26930cd077aa3ec562": {
          "model_module": "@jupyter-widgets/base",
          "model_name": "LayoutModel",
          "model_module_version": "1.2.0",
          "state": {
            "_model_module": "@jupyter-widgets/base",
            "_model_module_version": "1.2.0",
            "_model_name": "LayoutModel",
            "_view_count": null,
            "_view_module": "@jupyter-widgets/base",
            "_view_module_version": "1.2.0",
            "_view_name": "LayoutView",
            "align_content": null,
            "align_items": null,
            "align_self": null,
            "border": null,
            "bottom": null,
            "display": null,
            "flex": null,
            "flex_flow": null,
            "grid_area": null,
            "grid_auto_columns": null,
            "grid_auto_flow": null,
            "grid_auto_rows": null,
            "grid_column": null,
            "grid_gap": null,
            "grid_row": null,
            "grid_template_areas": null,
            "grid_template_columns": null,
            "grid_template_rows": null,
            "height": null,
            "justify_content": null,
            "justify_items": null,
            "left": null,
            "margin": null,
            "max_height": null,
            "max_width": null,
            "min_height": null,
            "min_width": null,
            "object_fit": null,
            "object_position": null,
            "order": null,
            "overflow": null,
            "overflow_x": null,
            "overflow_y": null,
            "padding": null,
            "right": null,
            "top": null,
            "visibility": null,
            "width": null
          }
        },
        "47e8b6c602f1416da27a3b53b6fb51eb": {
          "model_module": "@jupyter-widgets/base",
          "model_name": "LayoutModel",
          "model_module_version": "1.2.0",
          "state": {
            "_model_module": "@jupyter-widgets/base",
            "_model_module_version": "1.2.0",
            "_model_name": "LayoutModel",
            "_view_count": null,
            "_view_module": "@jupyter-widgets/base",
            "_view_module_version": "1.2.0",
            "_view_name": "LayoutView",
            "align_content": null,
            "align_items": null,
            "align_self": null,
            "border": null,
            "bottom": null,
            "display": null,
            "flex": null,
            "flex_flow": null,
            "grid_area": null,
            "grid_auto_columns": null,
            "grid_auto_flow": null,
            "grid_auto_rows": null,
            "grid_column": null,
            "grid_gap": null,
            "grid_row": null,
            "grid_template_areas": null,
            "grid_template_columns": null,
            "grid_template_rows": null,
            "height": null,
            "justify_content": null,
            "justify_items": null,
            "left": null,
            "margin": null,
            "max_height": null,
            "max_width": null,
            "min_height": null,
            "min_width": null,
            "object_fit": null,
            "object_position": null,
            "order": null,
            "overflow": null,
            "overflow_x": null,
            "overflow_y": null,
            "padding": null,
            "right": null,
            "top": null,
            "visibility": null,
            "width": null
          }
        },
        "a62b1e2efc78459fa5dc2d5529c4bc82": {
          "model_module": "@jupyter-widgets/controls",
          "model_name": "DescriptionStyleModel",
          "model_module_version": "1.5.0",
          "state": {
            "_model_module": "@jupyter-widgets/controls",
            "_model_module_version": "1.5.0",
            "_model_name": "DescriptionStyleModel",
            "_view_count": null,
            "_view_module": "@jupyter-widgets/base",
            "_view_module_version": "1.2.0",
            "_view_name": "StyleView",
            "description_width": ""
          }
        },
        "9e4bd0658182491e8b9dd87a960acb77": {
          "model_module": "@jupyter-widgets/base",
          "model_name": "LayoutModel",
          "model_module_version": "1.2.0",
          "state": {
            "_model_module": "@jupyter-widgets/base",
            "_model_module_version": "1.2.0",
            "_model_name": "LayoutModel",
            "_view_count": null,
            "_view_module": "@jupyter-widgets/base",
            "_view_module_version": "1.2.0",
            "_view_name": "LayoutView",
            "align_content": null,
            "align_items": null,
            "align_self": null,
            "border": null,
            "bottom": null,
            "display": null,
            "flex": null,
            "flex_flow": null,
            "grid_area": null,
            "grid_auto_columns": null,
            "grid_auto_flow": null,
            "grid_auto_rows": null,
            "grid_column": null,
            "grid_gap": null,
            "grid_row": null,
            "grid_template_areas": null,
            "grid_template_columns": null,
            "grid_template_rows": null,
            "height": null,
            "justify_content": null,
            "justify_items": null,
            "left": null,
            "margin": null,
            "max_height": null,
            "max_width": null,
            "min_height": null,
            "min_width": null,
            "object_fit": null,
            "object_position": null,
            "order": null,
            "overflow": null,
            "overflow_x": null,
            "overflow_y": null,
            "padding": null,
            "right": null,
            "top": null,
            "visibility": null,
            "width": null
          }
        },
        "5a04d7ab88c445f5a6189511c8fd5c59": {
          "model_module": "@jupyter-widgets/controls",
          "model_name": "ProgressStyleModel",
          "model_module_version": "1.5.0",
          "state": {
            "_model_module": "@jupyter-widgets/controls",
            "_model_module_version": "1.5.0",
            "_model_name": "ProgressStyleModel",
            "_view_count": null,
            "_view_module": "@jupyter-widgets/base",
            "_view_module_version": "1.2.0",
            "_view_name": "StyleView",
            "bar_color": null,
            "description_width": ""
          }
        },
        "398c76a57df64b63a94ba3ffa5a9f766": {
          "model_module": "@jupyter-widgets/base",
          "model_name": "LayoutModel",
          "model_module_version": "1.2.0",
          "state": {
            "_model_module": "@jupyter-widgets/base",
            "_model_module_version": "1.2.0",
            "_model_name": "LayoutModel",
            "_view_count": null,
            "_view_module": "@jupyter-widgets/base",
            "_view_module_version": "1.2.0",
            "_view_name": "LayoutView",
            "align_content": null,
            "align_items": null,
            "align_self": null,
            "border": null,
            "bottom": null,
            "display": null,
            "flex": null,
            "flex_flow": null,
            "grid_area": null,
            "grid_auto_columns": null,
            "grid_auto_flow": null,
            "grid_auto_rows": null,
            "grid_column": null,
            "grid_gap": null,
            "grid_row": null,
            "grid_template_areas": null,
            "grid_template_columns": null,
            "grid_template_rows": null,
            "height": null,
            "justify_content": null,
            "justify_items": null,
            "left": null,
            "margin": null,
            "max_height": null,
            "max_width": null,
            "min_height": null,
            "min_width": null,
            "object_fit": null,
            "object_position": null,
            "order": null,
            "overflow": null,
            "overflow_x": null,
            "overflow_y": null,
            "padding": null,
            "right": null,
            "top": null,
            "visibility": null,
            "width": null
          }
        },
        "6a7c31caa4a64687a3c36729cd66f343": {
          "model_module": "@jupyter-widgets/controls",
          "model_name": "DescriptionStyleModel",
          "model_module_version": "1.5.0",
          "state": {
            "_model_module": "@jupyter-widgets/controls",
            "_model_module_version": "1.5.0",
            "_model_name": "DescriptionStyleModel",
            "_view_count": null,
            "_view_module": "@jupyter-widgets/base",
            "_view_module_version": "1.2.0",
            "_view_name": "StyleView",
            "description_width": ""
          }
        },
        "65b84d23a6ae47cfb8548d868132be06": {
          "model_module": "@jupyter-widgets/controls",
          "model_name": "HBoxModel",
          "model_module_version": "1.5.0",
          "state": {
            "_dom_classes": [],
            "_model_module": "@jupyter-widgets/controls",
            "_model_module_version": "1.5.0",
            "_model_name": "HBoxModel",
            "_view_count": null,
            "_view_module": "@jupyter-widgets/controls",
            "_view_module_version": "1.5.0",
            "_view_name": "HBoxView",
            "box_style": "",
            "children": [
              "IPY_MODEL_5d547cdb704a4606bbb52902f683b471",
              "IPY_MODEL_a9ff8510fc184e25b73860bf2da20532",
              "IPY_MODEL_b6ad16eb637c4431a33e14126546138f"
            ],
            "layout": "IPY_MODEL_ed9825b061cb4143bea65b9f28f3d605"
          }
        },
        "5d547cdb704a4606bbb52902f683b471": {
          "model_module": "@jupyter-widgets/controls",
          "model_name": "HTMLModel",
          "model_module_version": "1.5.0",
          "state": {
            "_dom_classes": [],
            "_model_module": "@jupyter-widgets/controls",
            "_model_module_version": "1.5.0",
            "_model_name": "HTMLModel",
            "_view_count": null,
            "_view_module": "@jupyter-widgets/controls",
            "_view_module_version": "1.5.0",
            "_view_name": "HTMLView",
            "description": "",
            "description_tooltip": null,
            "layout": "IPY_MODEL_5d2824d8a37a40648b1ff3fdb4305a9e",
            "placeholder": "​",
            "style": "IPY_MODEL_5cf1540836eb40898f02b2000d363ee2",
            "value": "model.safetensors: 100%"
          }
        },
        "a9ff8510fc184e25b73860bf2da20532": {
          "model_module": "@jupyter-widgets/controls",
          "model_name": "FloatProgressModel",
          "model_module_version": "1.5.0",
          "state": {
            "_dom_classes": [],
            "_model_module": "@jupyter-widgets/controls",
            "_model_module_version": "1.5.0",
            "_model_name": "FloatProgressModel",
            "_view_count": null,
            "_view_module": "@jupyter-widgets/controls",
            "_view_module_version": "1.5.0",
            "_view_name": "ProgressView",
            "bar_style": "success",
            "description": "",
            "description_tooltip": null,
            "layout": "IPY_MODEL_02fd3e3c7a8f4b60881b14c2f29ce57d",
            "max": 440449768,
            "min": 0,
            "orientation": "horizontal",
            "style": "IPY_MODEL_efd752b404e149de9ae7f04842857ceb",
            "value": 440449768
          }
        },
        "b6ad16eb637c4431a33e14126546138f": {
          "model_module": "@jupyter-widgets/controls",
          "model_name": "HTMLModel",
          "model_module_version": "1.5.0",
          "state": {
            "_dom_classes": [],
            "_model_module": "@jupyter-widgets/controls",
            "_model_module_version": "1.5.0",
            "_model_name": "HTMLModel",
            "_view_count": null,
            "_view_module": "@jupyter-widgets/controls",
            "_view_module_version": "1.5.0",
            "_view_name": "HTMLView",
            "description": "",
            "description_tooltip": null,
            "layout": "IPY_MODEL_875dae39be4a4859a852b0a9ff2d8cee",
            "placeholder": "​",
            "style": "IPY_MODEL_4de32cd8fcee4f6c9d3d9c0536cb399a",
            "value": " 440M/440M [00:04&lt;00:00, 102MB/s]"
          }
        },
        "ed9825b061cb4143bea65b9f28f3d605": {
          "model_module": "@jupyter-widgets/base",
          "model_name": "LayoutModel",
          "model_module_version": "1.2.0",
          "state": {
            "_model_module": "@jupyter-widgets/base",
            "_model_module_version": "1.2.0",
            "_model_name": "LayoutModel",
            "_view_count": null,
            "_view_module": "@jupyter-widgets/base",
            "_view_module_version": "1.2.0",
            "_view_name": "LayoutView",
            "align_content": null,
            "align_items": null,
            "align_self": null,
            "border": null,
            "bottom": null,
            "display": null,
            "flex": null,
            "flex_flow": null,
            "grid_area": null,
            "grid_auto_columns": null,
            "grid_auto_flow": null,
            "grid_auto_rows": null,
            "grid_column": null,
            "grid_gap": null,
            "grid_row": null,
            "grid_template_areas": null,
            "grid_template_columns": null,
            "grid_template_rows": null,
            "height": null,
            "justify_content": null,
            "justify_items": null,
            "left": null,
            "margin": null,
            "max_height": null,
            "max_width": null,
            "min_height": null,
            "min_width": null,
            "object_fit": null,
            "object_position": null,
            "order": null,
            "overflow": null,
            "overflow_x": null,
            "overflow_y": null,
            "padding": null,
            "right": null,
            "top": null,
            "visibility": null,
            "width": null
          }
        },
        "5d2824d8a37a40648b1ff3fdb4305a9e": {
          "model_module": "@jupyter-widgets/base",
          "model_name": "LayoutModel",
          "model_module_version": "1.2.0",
          "state": {
            "_model_module": "@jupyter-widgets/base",
            "_model_module_version": "1.2.0",
            "_model_name": "LayoutModel",
            "_view_count": null,
            "_view_module": "@jupyter-widgets/base",
            "_view_module_version": "1.2.0",
            "_view_name": "LayoutView",
            "align_content": null,
            "align_items": null,
            "align_self": null,
            "border": null,
            "bottom": null,
            "display": null,
            "flex": null,
            "flex_flow": null,
            "grid_area": null,
            "grid_auto_columns": null,
            "grid_auto_flow": null,
            "grid_auto_rows": null,
            "grid_column": null,
            "grid_gap": null,
            "grid_row": null,
            "grid_template_areas": null,
            "grid_template_columns": null,
            "grid_template_rows": null,
            "height": null,
            "justify_content": null,
            "justify_items": null,
            "left": null,
            "margin": null,
            "max_height": null,
            "max_width": null,
            "min_height": null,
            "min_width": null,
            "object_fit": null,
            "object_position": null,
            "order": null,
            "overflow": null,
            "overflow_x": null,
            "overflow_y": null,
            "padding": null,
            "right": null,
            "top": null,
            "visibility": null,
            "width": null
          }
        },
        "5cf1540836eb40898f02b2000d363ee2": {
          "model_module": "@jupyter-widgets/controls",
          "model_name": "DescriptionStyleModel",
          "model_module_version": "1.5.0",
          "state": {
            "_model_module": "@jupyter-widgets/controls",
            "_model_module_version": "1.5.0",
            "_model_name": "DescriptionStyleModel",
            "_view_count": null,
            "_view_module": "@jupyter-widgets/base",
            "_view_module_version": "1.2.0",
            "_view_name": "StyleView",
            "description_width": ""
          }
        },
        "02fd3e3c7a8f4b60881b14c2f29ce57d": {
          "model_module": "@jupyter-widgets/base",
          "model_name": "LayoutModel",
          "model_module_version": "1.2.0",
          "state": {
            "_model_module": "@jupyter-widgets/base",
            "_model_module_version": "1.2.0",
            "_model_name": "LayoutModel",
            "_view_count": null,
            "_view_module": "@jupyter-widgets/base",
            "_view_module_version": "1.2.0",
            "_view_name": "LayoutView",
            "align_content": null,
            "align_items": null,
            "align_self": null,
            "border": null,
            "bottom": null,
            "display": null,
            "flex": null,
            "flex_flow": null,
            "grid_area": null,
            "grid_auto_columns": null,
            "grid_auto_flow": null,
            "grid_auto_rows": null,
            "grid_column": null,
            "grid_gap": null,
            "grid_row": null,
            "grid_template_areas": null,
            "grid_template_columns": null,
            "grid_template_rows": null,
            "height": null,
            "justify_content": null,
            "justify_items": null,
            "left": null,
            "margin": null,
            "max_height": null,
            "max_width": null,
            "min_height": null,
            "min_width": null,
            "object_fit": null,
            "object_position": null,
            "order": null,
            "overflow": null,
            "overflow_x": null,
            "overflow_y": null,
            "padding": null,
            "right": null,
            "top": null,
            "visibility": null,
            "width": null
          }
        },
        "efd752b404e149de9ae7f04842857ceb": {
          "model_module": "@jupyter-widgets/controls",
          "model_name": "ProgressStyleModel",
          "model_module_version": "1.5.0",
          "state": {
            "_model_module": "@jupyter-widgets/controls",
            "_model_module_version": "1.5.0",
            "_model_name": "ProgressStyleModel",
            "_view_count": null,
            "_view_module": "@jupyter-widgets/base",
            "_view_module_version": "1.2.0",
            "_view_name": "StyleView",
            "bar_color": null,
            "description_width": ""
          }
        },
        "875dae39be4a4859a852b0a9ff2d8cee": {
          "model_module": "@jupyter-widgets/base",
          "model_name": "LayoutModel",
          "model_module_version": "1.2.0",
          "state": {
            "_model_module": "@jupyter-widgets/base",
            "_model_module_version": "1.2.0",
            "_model_name": "LayoutModel",
            "_view_count": null,
            "_view_module": "@jupyter-widgets/base",
            "_view_module_version": "1.2.0",
            "_view_name": "LayoutView",
            "align_content": null,
            "align_items": null,
            "align_self": null,
            "border": null,
            "bottom": null,
            "display": null,
            "flex": null,
            "flex_flow": null,
            "grid_area": null,
            "grid_auto_columns": null,
            "grid_auto_flow": null,
            "grid_auto_rows": null,
            "grid_column": null,
            "grid_gap": null,
            "grid_row": null,
            "grid_template_areas": null,
            "grid_template_columns": null,
            "grid_template_rows": null,
            "height": null,
            "justify_content": null,
            "justify_items": null,
            "left": null,
            "margin": null,
            "max_height": null,
            "max_width": null,
            "min_height": null,
            "min_width": null,
            "object_fit": null,
            "object_position": null,
            "order": null,
            "overflow": null,
            "overflow_x": null,
            "overflow_y": null,
            "padding": null,
            "right": null,
            "top": null,
            "visibility": null,
            "width": null
          }
        },
        "4de32cd8fcee4f6c9d3d9c0536cb399a": {
          "model_module": "@jupyter-widgets/controls",
          "model_name": "DescriptionStyleModel",
          "model_module_version": "1.5.0",
          "state": {
            "_model_module": "@jupyter-widgets/controls",
            "_model_module_version": "1.5.0",
            "_model_name": "DescriptionStyleModel",
            "_view_count": null,
            "_view_module": "@jupyter-widgets/base",
            "_view_module_version": "1.2.0",
            "_view_name": "StyleView",
            "description_width": ""
          }
        }
      }
    }
  },
  "cells": [
    {
      "cell_type": "markdown",
      "metadata": {
        "id": "view-in-github",
        "colab_type": "text"
      },
      "source": [
        "<a href=\"https://colab.research.google.com/github/brownsloth/transformers_concepts_notebooks/blob/main/transformers_1_basics_invoking_bert_model.ipynb\" target=\"_parent\"><img src=\"https://colab.research.google.com/assets/colab-badge.svg\" alt=\"Open In Colab\"/></a>"
      ]
    },
    {
      "cell_type": "code",
      "execution_count": null,
      "metadata": {
        "id": "grE-K8NZoPgn"
      },
      "outputs": [],
      "source": [
        "import torch\n",
        "from transformers import BertTokenizer, BertModel\n",
        "import numpy as np\n",
        "import pandas as pd"
      ]
    },
    {
      "cell_type": "code",
      "source": [
        "l = [1, 2, 3]"
      ],
      "metadata": {
        "id": "PxOjxXIuomUg"
      },
      "execution_count": null,
      "outputs": []
    },
    {
      "cell_type": "code",
      "source": [
        "l_tensor = torch.tensor(l)\n",
        "print(l_tensor)"
      ],
      "metadata": {
        "colab": {
          "base_uri": "https://localhost:8080/"
        },
        "id": "NPOBi9p_osxM",
        "outputId": "6b1af902-bee0-488b-a6c7-112abcb62fec"
      },
      "execution_count": null,
      "outputs": [
        {
          "output_type": "stream",
          "name": "stdout",
          "text": [
            "tensor([1, 2, 3])\n"
          ]
        }
      ]
    },
    {
      "cell_type": "code",
      "source": [
        "l_tensor_unsqueezed = l_tensor.unsqueeze(0)\n",
        "print(l_tensor_unsqueezed)"
      ],
      "metadata": {
        "colab": {
          "base_uri": "https://localhost:8080/"
        },
        "id": "c6Dw1wgWo0LC",
        "outputId": "b669fde1-a7e5-4bc4-8fc2-0baf44e2ac88"
      },
      "execution_count": null,
      "outputs": [
        {
          "output_type": "stream",
          "name": "stdout",
          "text": [
            "tensor([[1, 2, 3]])\n"
          ]
        }
      ]
    },
    {
      "cell_type": "code",
      "source": [
        "tokenizer = BertTokenizer.from_pretrained('bert-base-uncased')"
      ],
      "metadata": {
        "colab": {
          "base_uri": "https://localhost:8080/",
          "height": 272,
          "referenced_widgets": [
            "33a85747422d40a886fd006f7d90303c",
            "3dbc976cb92e4142b5b112198093d036",
            "b4e441c331fe4378addc252b65fdd283",
            "1ef4c120928f460396d73fb535f70867",
            "613b15b4d74648a2b0feb59a1a7b26ef",
            "ecc836d8e17646bf8e7a4ecbad9004c5",
            "9f79b9744d56471c9991c8885c9a722c",
            "79643e80fd344bc2810b211b60e9303b",
            "5b33a9ba84294f16b18543ae91363ff0",
            "9062ad2f72b841559cd075a1f78f4817",
            "422efda1c5b84c1f883e182eab1b7fea",
            "b38a8ed797a54821acadcad0c1e49004",
            "88d0a6764dac4d15baf1467cae9adb0c",
            "3acea1d26cff4c46b2264cea13b32ab3",
            "011e7f40057e4af6960e2611e227ec37",
            "5c3460e6411c46f89ce879644fd5b8ff",
            "14bb0f0f53ad4d4e8eb81b544d9313b6",
            "c8d18a340e164191aa4f0ed751fcb0e8",
            "7ddd0ac7cc5d4682b8206af0d2436d7b",
            "91f3055fe1a54bc79dfd9da374bd9cf7",
            "68a067abecbb493a83332675006a3a2f",
            "71146e28f4e34802b35dce835a3729eb",
            "bcaf2dd7b2aa48e8af2fc4a42ba375e7",
            "73354cfdef694136859c090d764419d3",
            "5f72e615c81c40b2a081a73a646ab55d",
            "0c1b6e4b9c7243c79917e7e2f475b459",
            "55f655b45fc0461596dccf54981ea1a2",
            "55e49dbaba8d447581ed1604be6f1dc9",
            "5ffcc58149be43ecb59147d2623c50e1",
            "c566226af8b148cd93fe4baeb567f2de",
            "431b7fce26e24f93ae8582a9aa820d71",
            "e829cd0f2c004fad93e121a3e52d9978",
            "fb537e55e18849eb9acbd7dfc7c66c32",
            "9b873fe934124ae1b1672c66923cc2b8",
            "91c908e657e24f84a902edd662c2ef3b",
            "8c720aee097f4d5f94c2f00de0e294c0",
            "67aeae540d30418e95e597adf7b1f44a",
            "47ecdcd978af4b26930cd077aa3ec562",
            "47e8b6c602f1416da27a3b53b6fb51eb",
            "a62b1e2efc78459fa5dc2d5529c4bc82",
            "9e4bd0658182491e8b9dd87a960acb77",
            "5a04d7ab88c445f5a6189511c8fd5c59",
            "398c76a57df64b63a94ba3ffa5a9f766",
            "6a7c31caa4a64687a3c36729cd66f343"
          ]
        },
        "id": "SWanixuFsll0",
        "outputId": "b81f91eb-2644-406f-fef5-d784f669c966"
      },
      "execution_count": null,
      "outputs": [
        {
          "output_type": "stream",
          "name": "stderr",
          "text": [
            "/usr/local/lib/python3.11/dist-packages/huggingface_hub/utils/_auth.py:94: UserWarning: \n",
            "The secret `HF_TOKEN` does not exist in your Colab secrets.\n",
            "To authenticate with the Hugging Face Hub, create a token in your settings tab (https://huggingface.co/settings/tokens), set it as secret in your Google Colab and restart your session.\n",
            "You will be able to reuse this secret in all of your notebooks.\n",
            "Please note that authentication is recommended but still optional to access public models or datasets.\n",
            "  warnings.warn(\n"
          ]
        },
        {
          "output_type": "display_data",
          "data": {
            "text/plain": [
              "tokenizer_config.json:   0%|          | 0.00/48.0 [00:00<?, ?B/s]"
            ],
            "application/vnd.jupyter.widget-view+json": {
              "version_major": 2,
              "version_minor": 0,
              "model_id": "33a85747422d40a886fd006f7d90303c"
            }
          },
          "metadata": {}
        },
        {
          "output_type": "display_data",
          "data": {
            "text/plain": [
              "vocab.txt:   0%|          | 0.00/232k [00:00<?, ?B/s]"
            ],
            "application/vnd.jupyter.widget-view+json": {
              "version_major": 2,
              "version_minor": 0,
              "model_id": "b38a8ed797a54821acadcad0c1e49004"
            }
          },
          "metadata": {}
        },
        {
          "output_type": "display_data",
          "data": {
            "text/plain": [
              "tokenizer.json:   0%|          | 0.00/466k [00:00<?, ?B/s]"
            ],
            "application/vnd.jupyter.widget-view+json": {
              "version_major": 2,
              "version_minor": 0,
              "model_id": "bcaf2dd7b2aa48e8af2fc4a42ba375e7"
            }
          },
          "metadata": {}
        },
        {
          "output_type": "display_data",
          "data": {
            "text/plain": [
              "config.json:   0%|          | 0.00/570 [00:00<?, ?B/s]"
            ],
            "application/vnd.jupyter.widget-view+json": {
              "version_major": 2,
              "version_minor": 0,
              "model_id": "9b873fe934124ae1b1672c66923cc2b8"
            }
          },
          "metadata": {}
        }
      ]
    },
    {
      "cell_type": "code",
      "source": [
        "sent = \"My name is Anthony Gonzalves\"\n",
        "tokens = tokenizer.tokenize(sent)\n",
        "print(tokens)"
      ],
      "metadata": {
        "colab": {
          "base_uri": "https://localhost:8080/"
        },
        "id": "HSAH_lGdsTkL",
        "outputId": "87220233-f9f4-42f9-b4ed-da65995b376c"
      },
      "execution_count": null,
      "outputs": [
        {
          "output_type": "stream",
          "name": "stdout",
          "text": [
            "['my', 'name', 'is', 'anthony', 'go', '##nza', '##lves']\n"
          ]
        }
      ]
    },
    {
      "cell_type": "code",
      "source": [
        "## for Bert specifically we need to [CLS] and [SEP]\n",
        "tokens = ['[CLS]'] + tokens + ['[SEP]']\n",
        "print(tokens)"
      ],
      "metadata": {
        "colab": {
          "base_uri": "https://localhost:8080/"
        },
        "id": "tWySQ9X9swAy",
        "outputId": "1fe576c4-99eb-4e36-c419-d728d999ecdf"
      },
      "execution_count": null,
      "outputs": [
        {
          "output_type": "stream",
          "name": "stdout",
          "text": [
            "['[CLS]', 'my', 'name', 'is', 'anthony', 'go', '##nza', '##lves', '[SEP]']\n"
          ]
        }
      ]
    },
    {
      "cell_type": "code",
      "source": [
        "## Pad for same sequence length\n",
        "seq_len = 16\n",
        "tokens = tokens + ['[PAD]']*(seq_len - len(tokens))\n",
        "print(tokens)"
      ],
      "metadata": {
        "colab": {
          "base_uri": "https://localhost:8080/"
        },
        "id": "4bTfQSiNuvMU",
        "outputId": "7f76db1f-ae6a-4832-a035-beacfe66e6fc"
      },
      "execution_count": null,
      "outputs": [
        {
          "output_type": "stream",
          "name": "stdout",
          "text": [
            "['[CLS]', 'my', 'name', 'is', 'anthony', 'go', '##nza', '##lves', '[SEP]', '[PAD]', '[PAD]', '[PAD]', '[PAD]', '[PAD]', '[PAD]', '[PAD]']\n"
          ]
        }
      ]
    },
    {
      "cell_type": "code",
      "source": [
        "token_ids = tokenizer.convert_tokens_to_ids(tokens)\n",
        "print(token_ids)"
      ],
      "metadata": {
        "colab": {
          "base_uri": "https://localhost:8080/"
        },
        "id": "3RMbEcEYs9pF",
        "outputId": "c4b41f41-27b0-4115-cf43-4e887439aee7"
      },
      "execution_count": null,
      "outputs": [
        {
          "output_type": "stream",
          "name": "stdout",
          "text": [
            "[101, 2026, 2171, 2003, 4938, 2175, 16786, 20899, 102, 0, 0, 0, 0, 0, 0, 0]\n"
          ]
        }
      ]
    },
    {
      "cell_type": "code",
      "source": [
        "tokenizer.convert_ids_to_tokens(list(range(1, 101)))"
      ],
      "metadata": {
        "colab": {
          "base_uri": "https://localhost:8080/"
        },
        "collapsed": true,
        "id": "5P7mFpJouTA2",
        "outputId": "2dedc954-3f2e-4e24-f64d-d0ab7de6bddc"
      },
      "execution_count": null,
      "outputs": [
        {
          "output_type": "execute_result",
          "data": {
            "text/plain": [
              "['[unused0]',\n",
              " '[unused1]',\n",
              " '[unused2]',\n",
              " '[unused3]',\n",
              " '[unused4]',\n",
              " '[unused5]',\n",
              " '[unused6]',\n",
              " '[unused7]',\n",
              " '[unused8]',\n",
              " '[unused9]',\n",
              " '[unused10]',\n",
              " '[unused11]',\n",
              " '[unused12]',\n",
              " '[unused13]',\n",
              " '[unused14]',\n",
              " '[unused15]',\n",
              " '[unused16]',\n",
              " '[unused17]',\n",
              " '[unused18]',\n",
              " '[unused19]',\n",
              " '[unused20]',\n",
              " '[unused21]',\n",
              " '[unused22]',\n",
              " '[unused23]',\n",
              " '[unused24]',\n",
              " '[unused25]',\n",
              " '[unused26]',\n",
              " '[unused27]',\n",
              " '[unused28]',\n",
              " '[unused29]',\n",
              " '[unused30]',\n",
              " '[unused31]',\n",
              " '[unused32]',\n",
              " '[unused33]',\n",
              " '[unused34]',\n",
              " '[unused35]',\n",
              " '[unused36]',\n",
              " '[unused37]',\n",
              " '[unused38]',\n",
              " '[unused39]',\n",
              " '[unused40]',\n",
              " '[unused41]',\n",
              " '[unused42]',\n",
              " '[unused43]',\n",
              " '[unused44]',\n",
              " '[unused45]',\n",
              " '[unused46]',\n",
              " '[unused47]',\n",
              " '[unused48]',\n",
              " '[unused49]',\n",
              " '[unused50]',\n",
              " '[unused51]',\n",
              " '[unused52]',\n",
              " '[unused53]',\n",
              " '[unused54]',\n",
              " '[unused55]',\n",
              " '[unused56]',\n",
              " '[unused57]',\n",
              " '[unused58]',\n",
              " '[unused59]',\n",
              " '[unused60]',\n",
              " '[unused61]',\n",
              " '[unused62]',\n",
              " '[unused63]',\n",
              " '[unused64]',\n",
              " '[unused65]',\n",
              " '[unused66]',\n",
              " '[unused67]',\n",
              " '[unused68]',\n",
              " '[unused69]',\n",
              " '[unused70]',\n",
              " '[unused71]',\n",
              " '[unused72]',\n",
              " '[unused73]',\n",
              " '[unused74]',\n",
              " '[unused75]',\n",
              " '[unused76]',\n",
              " '[unused77]',\n",
              " '[unused78]',\n",
              " '[unused79]',\n",
              " '[unused80]',\n",
              " '[unused81]',\n",
              " '[unused82]',\n",
              " '[unused83]',\n",
              " '[unused84]',\n",
              " '[unused85]',\n",
              " '[unused86]',\n",
              " '[unused87]',\n",
              " '[unused88]',\n",
              " '[unused89]',\n",
              " '[unused90]',\n",
              " '[unused91]',\n",
              " '[unused92]',\n",
              " '[unused93]',\n",
              " '[unused94]',\n",
              " '[unused95]',\n",
              " '[unused96]',\n",
              " '[unused97]',\n",
              " '[unused98]',\n",
              " '[UNK]']"
            ]
          },
          "metadata": {},
          "execution_count": 18
        }
      ]
    },
    {
      "cell_type": "code",
      "source": [
        "attention_mask = [1 if token!='[PAD]' else 0 for token in tokens]\n",
        "print(attention_mask)"
      ],
      "metadata": {
        "colab": {
          "base_uri": "https://localhost:8080/"
        },
        "id": "IbVLE-OYuqDj",
        "outputId": "39ec52cb-6cf1-4a0e-ceda-fd7cf868063f"
      },
      "execution_count": null,
      "outputs": [
        {
          "output_type": "stream",
          "name": "stdout",
          "text": [
            "[1, 1, 1, 1, 1, 1, 1, 1, 1, 0, 0, 0, 0, 0, 0, 0]\n"
          ]
        }
      ]
    },
    {
      "cell_type": "code",
      "source": [
        "model = BertModel.from_pretrained('bert-base-uncased')\n",
        "print(model)"
      ],
      "metadata": {
        "colab": {
          "base_uri": "https://localhost:8080/",
          "height": 837,
          "referenced_widgets": [
            "65b84d23a6ae47cfb8548d868132be06",
            "5d547cdb704a4606bbb52902f683b471",
            "a9ff8510fc184e25b73860bf2da20532",
            "b6ad16eb637c4431a33e14126546138f",
            "ed9825b061cb4143bea65b9f28f3d605",
            "5d2824d8a37a40648b1ff3fdb4305a9e",
            "5cf1540836eb40898f02b2000d363ee2",
            "02fd3e3c7a8f4b60881b14c2f29ce57d",
            "efd752b404e149de9ae7f04842857ceb",
            "875dae39be4a4859a852b0a9ff2d8cee",
            "4de32cd8fcee4f6c9d3d9c0536cb399a"
          ]
        },
        "collapsed": true,
        "id": "tKGEAU2DvkiI",
        "outputId": "e89424f2-5052-4cc0-f83a-1fcb8e0f14e6"
      },
      "execution_count": null,
      "outputs": [
        {
          "output_type": "stream",
          "name": "stderr",
          "text": [
            "Xet Storage is enabled for this repo, but the 'hf_xet' package is not installed. Falling back to regular HTTP download. For better performance, install the package with: `pip install huggingface_hub[hf_xet]` or `pip install hf_xet`\n",
            "WARNING:huggingface_hub.file_download:Xet Storage is enabled for this repo, but the 'hf_xet' package is not installed. Falling back to regular HTTP download. For better performance, install the package with: `pip install huggingface_hub[hf_xet]` or `pip install hf_xet`\n"
          ]
        },
        {
          "output_type": "display_data",
          "data": {
            "text/plain": [
              "model.safetensors:   0%|          | 0.00/440M [00:00<?, ?B/s]"
            ],
            "application/vnd.jupyter.widget-view+json": {
              "version_major": 2,
              "version_minor": 0,
              "model_id": "65b84d23a6ae47cfb8548d868132be06"
            }
          },
          "metadata": {}
        },
        {
          "output_type": "stream",
          "name": "stdout",
          "text": [
            "BertModel(\n",
            "  (embeddings): BertEmbeddings(\n",
            "    (word_embeddings): Embedding(30522, 768, padding_idx=0)\n",
            "    (position_embeddings): Embedding(512, 768)\n",
            "    (token_type_embeddings): Embedding(2, 768)\n",
            "    (LayerNorm): LayerNorm((768,), eps=1e-12, elementwise_affine=True)\n",
            "    (dropout): Dropout(p=0.1, inplace=False)\n",
            "  )\n",
            "  (encoder): BertEncoder(\n",
            "    (layer): ModuleList(\n",
            "      (0-11): 12 x BertLayer(\n",
            "        (attention): BertAttention(\n",
            "          (self): BertSdpaSelfAttention(\n",
            "            (query): Linear(in_features=768, out_features=768, bias=True)\n",
            "            (key): Linear(in_features=768, out_features=768, bias=True)\n",
            "            (value): Linear(in_features=768, out_features=768, bias=True)\n",
            "            (dropout): Dropout(p=0.1, inplace=False)\n",
            "          )\n",
            "          (output): BertSelfOutput(\n",
            "            (dense): Linear(in_features=768, out_features=768, bias=True)\n",
            "            (LayerNorm): LayerNorm((768,), eps=1e-12, elementwise_affine=True)\n",
            "            (dropout): Dropout(p=0.1, inplace=False)\n",
            "          )\n",
            "        )\n",
            "        (intermediate): BertIntermediate(\n",
            "          (dense): Linear(in_features=768, out_features=3072, bias=True)\n",
            "          (intermediate_act_fn): GELUActivation()\n",
            "        )\n",
            "        (output): BertOutput(\n",
            "          (dense): Linear(in_features=3072, out_features=768, bias=True)\n",
            "          (LayerNorm): LayerNorm((768,), eps=1e-12, elementwise_affine=True)\n",
            "          (dropout): Dropout(p=0.1, inplace=False)\n",
            "        )\n",
            "      )\n",
            "    )\n",
            "  )\n",
            "  (pooler): BertPooler(\n",
            "    (dense): Linear(in_features=768, out_features=768, bias=True)\n",
            "    (activation): Tanh()\n",
            "  )\n",
            ")\n"
          ]
        }
      ]
    },
    {
      "cell_type": "code",
      "source": [
        "## convert to tensors of shape (batch_size x sequence length)\n",
        "token_ids_tensor = torch.tensor(token_ids).unsqueeze(0)\n",
        "attention_mask_tensor = torch.tensor(attention_mask).unsqueeze(0)"
      ],
      "metadata": {
        "id": "FIlmC_YWwEKB"
      },
      "execution_count": null,
      "outputs": []
    },
    {
      "cell_type": "code",
      "source": [
        "output = model(token_ids_tensor, attention_mask=attention_mask_tensor)\n",
        "print(output)"
      ],
      "metadata": {
        "colab": {
          "base_uri": "https://localhost:8080/"
        },
        "id": "eSohHCccv4iw",
        "outputId": "b1cc26eb-f30e-4865-f7f1-39e4542ff49c"
      },
      "execution_count": null,
      "outputs": [
        {
          "output_type": "stream",
          "name": "stdout",
          "text": [
            "BaseModelOutputWithPoolingAndCrossAttentions(last_hidden_state=tensor([[[-1.2561e-01,  5.6688e-01, -1.3606e-01,  ..., -7.5511e-02,\n",
            "           9.1913e-02,  4.8627e-01],\n",
            "         [ 9.8133e-02,  5.0979e-02, -4.5450e-01,  ..., -1.1635e-01,\n",
            "          -7.5377e-02,  2.8359e-01],\n",
            "         [-1.4435e-01,  5.2643e-02,  3.3957e-01,  ..., -6.3585e-01,\n",
            "           5.2531e-02,  2.1887e-01],\n",
            "         ...,\n",
            "         [-4.8235e-01,  3.3785e-01,  5.5198e-01,  ...,  5.4239e-01,\n",
            "           2.9578e-01, -2.3971e-01],\n",
            "         [-3.1433e-01,  4.1386e-01,  5.6991e-01,  ...,  3.0876e-01,\n",
            "           6.1747e-04, -1.7274e-01],\n",
            "         [-3.8165e-01,  3.4185e-01,  5.7963e-01,  ...,  3.7681e-01,\n",
            "           8.9123e-02, -1.9170e-01]]], grad_fn=<NativeLayerNormBackward0>), pooler_output=tensor([[-0.8932, -0.4802, -0.6392,  0.7667,  0.3763, -0.1185,  0.8162,  0.2744,\n",
            "         -0.4947, -1.0000, -0.2443,  0.9124,  0.9862,  0.3595,  0.9248, -0.6868,\n",
            "         -0.1402, -0.5933,  0.3387, -0.2092,  0.6248,  0.9998,  0.4287,  0.3907,\n",
            "          0.4754,  0.9644, -0.7012,  0.9158,  0.9686,  0.6666, -0.6195,  0.2322,\n",
            "         -0.9921, -0.1746, -0.7417, -0.9906,  0.4277, -0.7197, -0.0860, -0.0029,\n",
            "         -0.9217,  0.2813,  0.9999, -0.2709,  0.3338, -0.3064, -1.0000,  0.2687,\n",
            "         -0.8722,  0.7535,  0.6160,  0.6039,  0.2912,  0.4175,  0.5564, -0.0525,\n",
            "         -0.1896,  0.0810, -0.2935, -0.5618, -0.6562,  0.4244, -0.7154, -0.8680,\n",
            "          0.5588,  0.3575, -0.2465, -0.3407, -0.0453, -0.0223,  0.8548,  0.1529,\n",
            "         -0.1152, -0.8435,  0.0788,  0.2659, -0.6793,  1.0000, -0.5062, -0.9782,\n",
            "          0.5985,  0.3812,  0.5818,  0.1894,  0.1414, -1.0000,  0.4790, -0.1067,\n",
            "         -0.9910,  0.3570,  0.5181, -0.2969,  0.2292,  0.6457, -0.2719, -0.3937,\n",
            "         -0.4539, -0.4380, -0.2659, -0.1945,  0.1225, -0.2422, -0.3813, -0.4181,\n",
            "          0.2947, -0.5896, -0.3759,  0.5983, -0.0638,  0.6634,  0.4812, -0.4930,\n",
            "          0.3083, -0.9608,  0.6535, -0.3808, -0.9874, -0.6119, -0.9894,  0.6763,\n",
            "         -0.1772, -0.0369,  0.9669,  0.1112,  0.4186, -0.0672, -0.7343, -1.0000,\n",
            "         -0.5948, -0.5649, -0.0526, -0.3670, -0.9785, -0.9763,  0.6103,  0.9459,\n",
            "          0.2265,  0.9996, -0.3330,  0.9516, -0.0175, -0.4873,  0.2760, -0.5493,\n",
            "          0.7563,  0.2419, -0.4878,  0.3174, -0.4234,  0.3144, -0.6441, -0.2158,\n",
            "         -0.4469, -0.9299, -0.4957,  0.9498, -0.2569, -0.7645,  0.3768, -0.2578,\n",
            "         -0.5176,  0.8016,  0.5845,  0.4486, -0.1823,  0.5198,  0.0173,  0.5661,\n",
            "         -0.8395,  0.0455,  0.4649, -0.2812, -0.6023, -0.9825, -0.3678,  0.5573,\n",
            "          0.9902,  0.7193,  0.2473,  0.4860, -0.3999,  0.5864, -0.9566,  0.9815,\n",
            "         -0.1377,  0.3761, -0.3977,  0.1212, -0.8217, -0.0640,  0.7903, -0.5566,\n",
            "         -0.8391, -0.1161, -0.5864, -0.3659, -0.6627,  0.2374, -0.2164, -0.4013,\n",
            "         -0.1495,  0.9337,  0.9307,  0.7642, -0.1819,  0.5642, -0.9003, -0.4803,\n",
            "          0.0999,  0.2866,  0.0735,  0.9925, -0.5734, -0.0474, -0.9450, -0.9893,\n",
            "         -0.0209, -0.8660, -0.1580, -0.7573,  0.6792,  0.0529,  0.2116,  0.4711,\n",
            "         -0.9626, -0.6939,  0.3665, -0.5041,  0.4370, -0.3995,  0.8275,  0.8290,\n",
            "         -0.5997,  0.4301,  0.9393, -0.7441, -0.7840,  0.6400, -0.3769,  0.8689,\n",
            "         -0.6744,  0.9743,  0.8782,  0.6916, -0.9119, -0.4988, -0.7328, -0.3023,\n",
            "         -0.0182, -0.2313,  0.6384,  0.6755,  0.3284,  0.6138, -0.6080,  0.9875,\n",
            "         -0.8153, -0.9602, -0.3249, -0.1288, -0.9901,  0.5756,  0.2683,  0.1363,\n",
            "         -0.3942, -0.6537, -0.9640,  0.7629,  0.1352,  0.9696, -0.1699, -0.8717,\n",
            "         -0.4509, -0.9372, -0.0884, -0.2591,  0.1120, -0.0360, -0.9509,  0.4794,\n",
            "          0.6487,  0.5636, -0.2861,  0.9959,  1.0000,  0.9782,  0.8698,  0.8553,\n",
            "         -0.9985, -0.2981,  1.0000, -0.9648, -1.0000, -0.9143, -0.5898,  0.5171,\n",
            "         -1.0000, -0.2122, -0.0117, -0.9302,  0.2642,  0.9738,  0.9747, -1.0000,\n",
            "          0.7915,  0.9316, -0.6904,  0.9176, -0.4529,  0.9745,  0.3537,  0.3755,\n",
            "         -0.2139,  0.3884, -0.7612, -0.8455, -0.0130, -0.3818,  0.9918,  0.1171,\n",
            "         -0.7088, -0.9115,  0.3132, -0.0950, -0.2627, -0.9730, -0.3252,  0.0069,\n",
            "          0.7690,  0.1804,  0.3739, -0.6561,  0.1834, -0.1727,  0.2517,  0.7284,\n",
            "         -0.9320, -0.4780, -0.1595, -0.3782, -0.2740, -0.9701,  0.9636, -0.2438,\n",
            "          0.6765,  1.0000, -0.0432, -0.8553,  0.5660,  0.2989, -0.5640,  1.0000,\n",
            "          0.7674, -0.9810, -0.6357,  0.3832, -0.5115, -0.6199,  0.9991, -0.2847,\n",
            "         -0.3699, -0.1367,  0.9824, -0.9926,  0.9821, -0.9143, -0.9658,  0.9682,\n",
            "          0.9406, -0.4503, -0.5904,  0.0777, -0.4511,  0.2197, -0.9110,  0.6239,\n",
            "          0.4756, -0.1651,  0.8797, -0.7774, -0.6509,  0.3029, -0.1278,  0.1982,\n",
            "          0.7873,  0.5611, -0.2587,  0.0829, -0.2377, -0.7788, -0.9740,  0.4902,\n",
            "          1.0000, -0.1227,  0.6069, -0.3179, -0.0918, -0.1507,  0.5470,  0.5991,\n",
            "         -0.4027, -0.8534,  0.6159, -0.9125, -0.9889,  0.5903,  0.2026, -0.3014,\n",
            "          1.0000,  0.2743,  0.2541,  0.0322,  0.9438,  0.0755,  0.4464,  0.4897,\n",
            "          0.9807, -0.2604,  0.6249,  0.7034, -0.5783, -0.4333, -0.6908, -0.0127,\n",
            "         -0.9345,  0.0526, -0.9471,  0.9626,  0.7872,  0.3897,  0.2419,  0.6264,\n",
            "          1.0000, -0.6317,  0.4990,  0.2745,  0.5710, -0.9987, -0.7910, -0.4543,\n",
            "         -0.1228, -0.4664, -0.4682,  0.2510, -0.9530,  0.5559,  0.4277, -0.9737,\n",
            "         -0.9877,  0.0207,  0.7600,  0.1519, -0.9532, -0.6983, -0.7027,  0.5072,\n",
            "         -0.2422, -0.9395,  0.2202, -0.3307,  0.4673, -0.1958,  0.5996,  0.5461,\n",
            "          0.8119, -0.4821, -0.0927, -0.0603, -0.7679,  0.8086, -0.7062, -0.7219,\n",
            "         -0.2753,  1.0000, -0.5745,  0.7266,  0.7422,  0.4768, -0.2788,  0.3629,\n",
            "          0.7582,  0.2846, -0.2218, -0.5385,  0.2098, -0.4025,  0.6441,  0.0901,\n",
            "          0.4315,  0.7545,  0.7008,  0.0920, -0.0314,  0.0702,  0.9972, -0.1720,\n",
            "         -0.0685, -0.3860, -0.1998, -0.4288, -0.0736,  1.0000,  0.2850,  0.1354,\n",
            "         -0.9918, -0.7603, -0.8758,  1.0000,  0.8262, -0.6875,  0.6516,  0.5263,\n",
            "         -0.1972,  0.6607, -0.1973, -0.3559,  0.3455,  0.1538,  0.9659, -0.5660,\n",
            "         -0.9738, -0.5560,  0.4101, -0.9672,  0.9994, -0.5882, -0.3838, -0.5644,\n",
            "         -0.0674, -0.3405, -0.1086, -0.9843, -0.2455,  0.0998,  0.9600,  0.3081,\n",
            "         -0.6176, -0.8732,  0.2939,  0.4734, -0.6632, -0.9439,  0.9683, -0.9856,\n",
            "          0.5856,  1.0000,  0.4652, -0.1837,  0.3638, -0.4111,  0.3213,  0.2045,\n",
            "          0.6991, -0.9532, -0.3334, -0.2814,  0.2925, -0.0863,  0.0580,  0.6540,\n",
            "          0.2907, -0.5990, -0.6525, -0.0255,  0.4247,  0.7580, -0.3003, -0.1150,\n",
            "          0.1102, -0.1555, -0.8819, -0.2962, -0.3895, -0.9999,  0.5670, -1.0000,\n",
            "          0.0951, -0.0923, -0.2832,  0.7926,  0.4436,  0.5442, -0.7546, -0.5512,\n",
            "          0.7372,  0.7451, -0.2785, -0.1957, -0.7041,  0.2563, -0.1309,  0.2071,\n",
            "         -0.4216,  0.7781, -0.2278,  1.0000,  0.1700, -0.6407, -0.9364,  0.2553,\n",
            "         -0.2739,  1.0000, -0.7920, -0.9503,  0.4978, -0.7031, -0.7907,  0.3694,\n",
            "          0.0055, -0.7161, -0.8002,  0.9535,  0.5914, -0.5970,  0.4947, -0.3263,\n",
            "         -0.5232,  0.1544,  0.5500,  0.9894,  0.4390,  0.8560,  0.3846, -0.2418,\n",
            "          0.9738,  0.2146,  0.0550,  0.1990,  1.0000,  0.3419, -0.9219,  0.3518,\n",
            "         -0.9750, -0.2404, -0.9350,  0.2735,  0.2096,  0.8876, -0.2945,  0.9570,\n",
            "         -0.4194,  0.0209, -0.3301, -0.1349,  0.4028, -0.9086, -0.9880, -0.9858,\n",
            "          0.4959, -0.4941, -0.0467,  0.2400,  0.0708,  0.4553,  0.4119, -1.0000,\n",
            "          0.9174,  0.5187,  0.6743,  0.9698,  0.4585,  0.3515,  0.3433, -0.9853,\n",
            "         -0.9505, -0.3739, -0.3199,  0.7189,  0.6397,  0.8619,  0.4427, -0.5124,\n",
            "         -0.4759, -0.2010, -0.4907, -0.9907,  0.4827, -0.2093, -0.8790,  0.9555,\n",
            "         -0.4798, -0.2569,  0.2753, -0.5690,  0.8092,  0.7580,  0.1926,  0.1192,\n",
            "          0.4049,  0.8308,  0.9284,  0.9879, -0.6654,  0.6925, -0.5060,  0.4791,\n",
            "          0.8052, -0.9305,  0.2045,  0.3271, -0.2032,  0.2574, -0.1724, -0.9360,\n",
            "          0.6488, -0.3439,  0.5938, -0.4829,  0.0571, -0.4960, -0.2270, -0.7416,\n",
            "         -0.7259,  0.7056,  0.5017,  0.8845,  0.7576, -0.0797, -0.6886, -0.1223,\n",
            "         -0.4662, -0.9346,  0.8661, -0.0925,  0.0684,  0.6110, -0.0944,  0.8988,\n",
            "         -0.0502, -0.3803, -0.2830, -0.6761,  0.8624, -0.5703, -0.5107, -0.6472,\n",
            "          0.7075,  0.3868,  0.9998, -0.4142, -0.6121, -0.2882, -0.4117,  0.5278,\n",
            "         -0.4737, -1.0000,  0.3950, -0.2100,  0.5901, -0.3882,  0.4658, -0.3886,\n",
            "         -0.9615, -0.3017,  0.5016,  0.4898, -0.5777, -0.3661,  0.6248, -0.0897,\n",
            "          0.9091,  0.8417, -0.2911,  0.5108,  0.6948, -0.7266, -0.7284,  0.8772]],\n",
            "       grad_fn=<TanhBackward0>), hidden_states=None, past_key_values=None, attentions=None, cross_attentions=None)\n"
          ]
        }
      ]
    },
    {
      "cell_type": "code",
      "source": [
        "## This gives us tokenwise embeddings. (batch size x padded seq length x embedding dim)\n",
        "print(output[0].shape)"
      ],
      "metadata": {
        "colab": {
          "base_uri": "https://localhost:8080/"
        },
        "id": "zED0H6OswlPx",
        "outputId": "6e3b30a7-f400-4c80-b4e9-84b9b7e1f246"
      },
      "execution_count": null,
      "outputs": [
        {
          "output_type": "stream",
          "name": "stdout",
          "text": [
            "torch.Size([1, 16, 768])\n"
          ]
        }
      ]
    },
    {
      "cell_type": "code",
      "source": [
        "## This gives us sentence level embeddings. (batch size x embedding dim)\n",
        "print(output[1].shape)"
      ],
      "metadata": {
        "colab": {
          "base_uri": "https://localhost:8080/"
        },
        "id": "2kdTKZJHwsVW",
        "outputId": "58491205-9fee-476f-d5fb-802fe1794a61"
      },
      "execution_count": null,
      "outputs": [
        {
          "output_type": "stream",
          "name": "stdout",
          "text": [
            "torch.Size([1, 768])\n"
          ]
        }
      ]
    }
  ]
}