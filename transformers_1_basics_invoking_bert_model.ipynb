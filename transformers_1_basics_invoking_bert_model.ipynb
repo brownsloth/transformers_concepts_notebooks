{
  "nbformat": 4,
  "nbformat_minor": 0,
  "metadata": {
    "colab": {
      "provenance": [],
      "authorship_tag": "ABX9TyMOC9PdND8eR59ASRlc5H5O",
      "include_colab_link": true
    },
    "kernelspec": {
      "name": "python3",
      "display_name": "Python 3"
    },
    "language_info": {
      "name": "python"
    }
  },
  "cells": [
    {
      "cell_type": "markdown",
      "metadata": {
        "id": "view-in-github",
        "colab_type": "text"
      },
      "source": [
        "<a href=\"https://colab.research.google.com/github/brownsloth/transformers_concepts_notebooks/blob/main/transformers_1_basics_invoking_bert_model.ipynb\" target=\"_parent\"><img src=\"https://colab.research.google.com/assets/colab-badge.svg\" alt=\"Open In Colab\"/></a>"
      ]
    },
    {
      "cell_type": "code",
      "execution_count": null,
      "metadata": {
        "id": "grE-K8NZoPgn"
      },
      "outputs": [],
      "source": [
        "import torch\n",
        "from transformers import BertTokenizer, BertModel\n",
        "import numpy as np\n",
        "import pandas as pd"
      ]
    },
    {
      "cell_type": "code",
      "source": [
        "l = [1, 2, 3]"
      ],
      "metadata": {
        "id": "PxOjxXIuomUg"
      },
      "execution_count": null,
      "outputs": []
    },
    {
      "cell_type": "code",
      "source": [
        "l_tensor = torch.tensor(l)\n",
        "print(l_tensor)"
      ],
      "metadata": {
        "id": "NPOBi9p_osxM"
      },
      "execution_count": null,
      "outputs": []
    },
    {
      "cell_type": "code",
      "source": [
        "l_tensor_unsqueezed = l_tensor.unsqueeze(0)\n",
        "print(l_tensor_unsqueezed)"
      ],
      "metadata": {
        "id": "c6Dw1wgWo0LC"
      },
      "execution_count": null,
      "outputs": []
    },
    {
      "cell_type": "code",
      "source": [
        "tokenizer = BertTokenizer.from_pretrained('bert-base-uncased')"
      ],
      "metadata": {
        "id": "SWanixuFsll0"
      },
      "execution_count": null,
      "outputs": []
    },
    {
      "cell_type": "code",
      "source": [
        "sent = \"My name is Anthony Gonzalves\"\n",
        "tokens = tokenizer.tokenize(sent)\n",
        "print(tokens)"
      ],
      "metadata": {
        "id": "HSAH_lGdsTkL"
      },
      "execution_count": null,
      "outputs": []
    },
    {
      "cell_type": "code",
      "source": [
        "## for Bert specifically we need to [CLS] and [SEP]\n",
        "tokens = ['[CLS]'] + tokens + ['[SEP]']\n",
        "print(tokens)"
      ],
      "metadata": {
        "id": "tWySQ9X9swAy"
      },
      "execution_count": null,
      "outputs": []
    },
    {
      "cell_type": "code",
      "source": [
        "## Pad for same sequence length\n",
        "seq_len = 16\n",
        "tokens = tokens + ['[PAD]']*(seq_len - len(tokens))\n",
        "print(tokens)"
      ],
      "metadata": {
        "id": "4bTfQSiNuvMU"
      },
      "execution_count": null,
      "outputs": []
    },
    {
      "cell_type": "code",
      "source": [
        "token_ids = tokenizer.convert_tokens_to_ids(tokens)\n",
        "print(token_ids)"
      ],
      "metadata": {
        "id": "3RMbEcEYs9pF"
      },
      "execution_count": null,
      "outputs": []
    },
    {
      "cell_type": "code",
      "source": [
        "tokenizer.convert_ids_to_tokens(list(range(1, 101)))"
      ],
      "metadata": {
        "collapsed": true,
        "id": "5P7mFpJouTA2"
      },
      "execution_count": null,
      "outputs": []
    },
    {
      "cell_type": "code",
      "source": [
        "attention_mask = [1 if token!='[PAD]' else 0 for token in tokens]\n",
        "print(attention_mask)"
      ],
      "metadata": {
        "id": "IbVLE-OYuqDj"
      },
      "execution_count": null,
      "outputs": []
    },
    {
      "cell_type": "code",
      "source": [
        "model = BertModel.from_pretrained('bert-base-uncased')\n",
        "print(model)"
      ],
      "metadata": {
        "collapsed": true,
        "id": "tKGEAU2DvkiI"
      },
      "execution_count": null,
      "outputs": []
    },
    {
      "cell_type": "code",
      "source": [
        "## convert to tensors of shape (batch_size x sequence length)\n",
        "token_ids_tensor = torch.tensor(token_ids).unsqueeze(0)\n",
        "attention_mask_tensor = torch.tensor(attention_mask).unsqueeze(0)"
      ],
      "metadata": {
        "id": "FIlmC_YWwEKB"
      },
      "execution_count": null,
      "outputs": []
    },
    {
      "cell_type": "code",
      "source": [
        "output = model(token_ids_tensor, attention_mask=attention_mask_tensor)\n",
        "print(output)"
      ],
      "metadata": {
        "id": "eSohHCccv4iw"
      },
      "execution_count": null,
      "outputs": []
    },
    {
      "cell_type": "code",
      "source": [
        "## This gives us tokenwise embeddings. (batch size x padded seq length x embedding dim)\n",
        "print(output[0].shape)"
      ],
      "metadata": {
        "id": "zED0H6OswlPx"
      },
      "execution_count": null,
      "outputs": []
    },
    {
      "cell_type": "code",
      "source": [
        "## This gives us sentence level embeddings. (batch size x embedding dim)\n",
        "print(output[1].shape)"
      ],
      "metadata": {
        "id": "2kdTKZJHwsVW"
      },
      "execution_count": null,
      "outputs": []
    }
  ]
}