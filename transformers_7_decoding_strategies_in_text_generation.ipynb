{
  "nbformat": 4,
  "nbformat_minor": 0,
  "metadata": {
    "colab": {
      "provenance": [],
      "authorship_tag": "ABX9TyMY2KWsu6vWk0L7M3/032xg",
      "include_colab_link": true
    },
    "kernelspec": {
      "name": "python3",
      "display_name": "Python 3"
    },
    "language_info": {
      "name": "python"
    }
  },
  "cells": [
    {
      "cell_type": "markdown",
      "metadata": {
        "id": "view-in-github",
        "colab_type": "text"
      },
      "source": [
        "<a href=\"https://colab.research.google.com/github/brownsloth/transformers_concepts_notebooks/blob/main/transformers_7_decoding_strategies_in_text_generation.ipynb\" target=\"_parent\"><img src=\"https://colab.research.google.com/assets/colab-badge.svg\" alt=\"Open In Colab\"/></a>"
      ]
    },
    {
      "cell_type": "markdown",
      "source": [
        "Decoding strategies: Control the generated text\n",
        "\n",
        "1. Greedy Search\n",
        "2. Beam Search\n",
        "3. Random sampling (top-p and top-k sampling)"
      ],
      "metadata": {
        "id": "J6ZTN_8ejuEn"
      }
    },
    {
      "cell_type": "code",
      "execution_count": null,
      "metadata": {
        "id": "KcmyVK96jUph"
      },
      "outputs": [],
      "source": [
        "import torch\n",
        "from transformers import AutoTokenizer,AutoModelForCausalLM"
      ]
    },
    {
      "cell_type": "code",
      "source": [
        "device = 'cuda' if torch.cuda.is_available() else 'cpu'\n",
        "model_name = 'gpt2-medium' #autoregressive text generator\n",
        "\n",
        "tokenizer = AutoTokenizer.from_pretrained(model_name)\n",
        "model = AutoModelForCausalLM.from_pretrained(model_name)"
      ],
      "metadata": {
        "collapsed": true,
        "id": "r_1hZ3gLkaBc"
      },
      "execution_count": null,
      "outputs": []
    },
    {
      "cell_type": "markdown",
      "source": [
        "## 1. Greedy search decoding: To produce short sequences where factuality is importamt"
      ],
      "metadata": {
        "id": "mbSxT-lolmzZ"
      }
    },
    {
      "cell_type": "code",
      "source": [
        "import pandas as pd\n",
        "\n",
        "time_steps = 8\n",
        "choices_per_step = 5\n",
        "\n",
        "def get_next_token_greedy_search(input_txt, input_ids):\n",
        "  iterations = []\n",
        "  with torch.no_grad():\n",
        "    for _ in range(time_steps):\n",
        "      iteration = dict()\n",
        "      iteration['Input'] = tokenizer.decode(input_ids[0])\n",
        "      output = model(input_ids=input_ids)\n",
        "      print('Size of logits: ',output.logits.size())\n",
        "      next_token_logits = output.logits[0,-1,:]\n",
        "      next_token_probs = torch.softmax(next_token_logits, dim=-1)\n",
        "\n",
        "      sorted_ind = torch.argsort(next_token_probs, dim=-1, descending=True)\n",
        "      for choice_ind in range(choices_per_step):\n",
        "        token_idx = sorted_ind[choice_ind]\n",
        "        token_prob = next_token_probs[token_idx].cpu().numpy()\n",
        "\n",
        "        token_choice = (\n",
        "            f\"{tokenizer.decode(token_idx)} ({100*token_prob:.2f})\"\n",
        "        )\n",
        "\n",
        "        iteration[f'Choice {choice_ind+1}'] = token_choice\n",
        "      # input_ids = torch.cat()\n",
        "      iterations.append(iteration)\n",
        "      input_ids = torch.cat([input_ids, sorted_ind[None, 0, None]], dim=-1)\n",
        "\n",
        "  return pd.DataFrame(iterations)"
      ],
      "metadata": {
        "id": "kW4aoOJFlmB4"
      },
      "execution_count": null,
      "outputs": []
    },
    {
      "cell_type": "code",
      "source": [
        "input_txt = 'Bitcoin will be'\n",
        "input_ids = tokenizer(input_txt, return_tensors='pt')['input_ids'].to(device)\n",
        "\n",
        "get_next_token_greedy_search(input_txt, input_ids)"
      ],
      "metadata": {
        "id": "8Fpt_IlHlh5M"
      },
      "execution_count": null,
      "outputs": []
    },
    {
      "cell_type": "code",
      "source": [
        "## Greedy search using OOTB feature\n",
        "output = model.generate(input_ids, max_new_tokens=time_steps, do_sample=False)\n",
        "print(tokenizer.decode(output[0]))#first batch"
      ],
      "metadata": {
        "id": "G8znQdjiuPmg"
      },
      "execution_count": null,
      "outputs": []
    },
    {
      "cell_type": "code",
      "source": [
        "input_txt = \"In today's rapidly evolving digital landscape, the substantial advance and rapid growth of data presents companies and their operations with a set of opportunities from different sources that can profoundly impact their competitiveness and success. The literature suggests that data can be considered a hidden weapon that fosters decision-making while determining a company's success in a rapidly changing market. Data are also used to support most organizational activities and decisions. As a result\"\n",
        "input_ids = tokenizer(input_txt, return_tensors='pt')['input_ids'].to(device)\n",
        "time_steps = 128\n",
        "output = model.generate(input_ids, max_new_tokens=time_steps, do_sample=False)\n",
        "print(tokenizer.decode(output[0]))#first batch"
      ],
      "metadata": {
        "id": "0iNwbd2QurdZ"
      },
      "execution_count": null,
      "outputs": []
    },
    {
      "cell_type": "markdown",
      "source": [
        "## 2. Beam Search Decoding\n",
        "\n",
        "https://youtu.be/KPtna8FahZ8?si=KB5MxI5XNrvo7Emv&t=16466 --> get the exact implementation of beam search decoding from here!"
      ],
      "metadata": {
        "id": "KDhvcqtSvnNy"
      }
    },
    {
      "cell_type": "code",
      "source": [
        "input_txt = \"In today's rapidly evolving digital landscape, the substantial advance and rapid growth of data presents companies and their operations with a set of opportunities from different sources that can profoundly impact their competitiveness and success. The literature suggests that data can be considered a hidden weapon that fosters decision-making while determining a company's success in a rapidly changing market. Data are also used to support most organizational activities and decisions. As a result\"\n",
        "input_ids = tokenizer(input_txt, return_tensors='pt')['input_ids'].to(device)\n",
        "time_steps = 128\n",
        "output = model.generate(input_ids, max_new_tokens=time_steps, do_sample=False, num_beams=5)\n",
        "print(tokenizer.decode(output[0]))#first batch"
      ],
      "metadata": {
        "id": "tMfm3Yotvlss"
      },
      "execution_count": null,
      "outputs": []
    },
    {
      "cell_type": "code",
      "source": [
        "## To reduce repition while maintaining diversity\n",
        "output = model.generate(input_ids, max_new_tokens=time_steps, do_sample=False, num_beams=5, no_repeat_ngram_size=2)\n",
        "print(tokenizer.decode(output[0]))#first batch"
      ],
      "metadata": {
        "id": "OSrwD3eRx2Yh"
      },
      "execution_count": null,
      "outputs": []
    },
    {
      "cell_type": "markdown",
      "source": [
        "#### Beam search With sampling\n",
        "\n",
        "With temp: high temp accentuates rare words and thus improves diversity but reduces coherence"
      ],
      "metadata": {
        "id": "-AHafeC0yf4i"
      }
    },
    {
      "cell_type": "code",
      "source": [
        "## To reduce repition while maintaining diversity\n",
        "output = model.generate(input_ids, max_new_tokens=time_steps, do_sample=True, temperature=2.0, top_k=0)\n",
        "print(tokenizer.decode(output[0]))#first batch"
      ],
      "metadata": {
        "id": "d46Q0J6eyStw"
      },
      "execution_count": null,
      "outputs": []
    },
    {
      "cell_type": "markdown",
      "source": [
        "#### Using top-k or top-p WITH SAMPLING we can reduce the vocab size to meaningful possible tokens\n",
        "\n",
        "top-k : choose k most probable tokens at each timestep\n",
        "top-p: choose those many most probable tokens at each timestep which have cumulative prob >=p"
      ],
      "metadata": {
        "id": "Azs4d8RjzHWo"
      }
    },
    {
      "cell_type": "code",
      "source": [
        "output = model.generate(input_ids, max_new_tokens=time_steps, do_sample=True, top_p=0.90)\n",
        "print(tokenizer.decode(output[0]))#first batch"
      ],
      "metadata": {
        "id": "KFG3jGz7zGrV"
      },
      "execution_count": null,
      "outputs": []
    }
  ]
}