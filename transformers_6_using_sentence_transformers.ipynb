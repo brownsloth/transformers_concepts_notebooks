{
  "nbformat": 4,
  "nbformat_minor": 0,
  "metadata": {
    "colab": {
      "provenance": [],
      "authorship_tag": "ABX9TyMlkUfRyuX9zp0I3aqNXAEQ",
      "include_colab_link": true
    },
    "kernelspec": {
      "name": "python3",
      "display_name": "Python 3"
    },
    "language_info": {
      "name": "python"
    }
  },
  "cells": [
    {
      "cell_type": "markdown",
      "metadata": {
        "id": "view-in-github",
        "colab_type": "text"
      },
      "source": [
        "<a href=\"https://colab.research.google.com/github/brownsloth/transformers_concepts_notebooks/blob/main/transformers_6_using_sentence_transformers.ipynb\" target=\"_parent\"><img src=\"https://colab.research.google.com/assets/colab-badge.svg\" alt=\"Open In Colab\"/></a>"
      ]
    },
    {
      "cell_type": "code",
      "execution_count": null,
      "metadata": {
        "collapsed": true,
        "id": "5OEs5CHyFG6Q"
      },
      "outputs": [],
      "source": [
        "!pip install sentence-transformers"
      ]
    },
    {
      "cell_type": "code",
      "source": [
        "from transformers import AutoModel, AutoTokenizer\n",
        "import torch\n",
        "from sklearn.metrics.pairwise import cosine_similarity"
      ],
      "metadata": {
        "id": "KNpiarQ3QLyr"
      },
      "execution_count": null,
      "outputs": []
    },
    {
      "cell_type": "code",
      "source": [
        "ckpt = 'sentence-transformers/all-mpnet-base-v2'\n",
        "tokenizer = AutoTokenizer.from_pretrained(ckpt)\n",
        "model = AutoModel.from_pretrained(ckpt)"
      ],
      "metadata": {
        "id": "LNobub2TQQFJ"
      },
      "execution_count": null,
      "outputs": []
    },
    {
      "cell_type": "code",
      "source": [
        "sentences = [\n",
        "    \"India and Pakistan are not on the best terms right now.\",\n",
        "    \"Wars looming large for some countries at the moment\",\n",
        "    \"international peace is important for proper functioning of global commerce\",\n",
        "    \"i had an ice cream today\"\n",
        "]"
      ],
      "metadata": {
        "id": "T-DKSDARQqca"
      },
      "execution_count": null,
      "outputs": []
    },
    {
      "cell_type": "code",
      "source": [
        "tokenizer.model_max_length"
      ],
      "metadata": {
        "id": "cBdYHmVsVvW4"
      },
      "execution_count": null,
      "outputs": []
    },
    {
      "cell_type": "code",
      "source": [
        "inputs = {'input_ids': [], 'attention_mask': []}\n",
        "for sent in sentences:\n",
        "  new_tokens = tokenizer.encode_plus(sent, max_length = tokenizer.model_max_length, truncation=True, padding ='max_length', return_tensors='pt')\n",
        "  inputs['input_ids'].append(new_tokens['input_ids'][0])\n",
        "  inputs['attention_mask'].append(new_tokens['attention_mask'][0])\n",
        "\n",
        "inputs['input_ids'] = torch.stack(inputs['input_ids'])\n",
        "inputs['attention_mask'] = torch.stack(inputs['attention_mask'])"
      ],
      "metadata": {
        "id": "PZVll-mfQgo_"
      },
      "execution_count": null,
      "outputs": []
    },
    {
      "cell_type": "code",
      "source": [
        "inputs['input_ids'].shape"
      ],
      "metadata": {
        "id": "7k4YgEeYXCEJ"
      },
      "execution_count": null,
      "outputs": []
    },
    {
      "cell_type": "code",
      "source": [
        "output = model(**inputs)"
      ],
      "metadata": {
        "id": "_wkjv8poXw4p"
      },
      "execution_count": null,
      "outputs": []
    },
    {
      "cell_type": "code",
      "source": [
        "for k in output.keys():\n",
        "  print(k, \"-->\")\n",
        "  print(output[k].shape) #The [CLS] embedding -> Linear (trained on next sentence prediction task) -> tanh"
      ],
      "metadata": {
        "collapsed": true,
        "id": "3qByDYuBXzxq"
      },
      "execution_count": null,
      "outputs": []
    },
    {
      "cell_type": "markdown",
      "source": [
        "We wanna get one fixed-size embedding per sentence irrespective of the sentence length. For that we do pooling over token embeddings of non-special tokens"
      ],
      "metadata": {
        "id": "G2COzx_6b_9l"
      }
    },
    {
      "cell_type": "code",
      "source": [
        "embeddings = output['last_hidden_state']\n",
        "attention_masks = inputs['attention_mask']\n",
        "resized_attention_mask = attention_masks.unsqueeze(-1).expand(embeddings.size()).float()\n",
        "print(resized_attention_mask.size())"
      ],
      "metadata": {
        "id": "iQFNGCCJb_A8"
      },
      "execution_count": null,
      "outputs": []
    },
    {
      "cell_type": "code",
      "source": [
        "masked_embeddings = embeddings*resized_attention_mask\n",
        "print(masked_embeddings.size())"
      ],
      "metadata": {
        "id": "UAAVK4L1c8LZ"
      },
      "execution_count": null,
      "outputs": []
    },
    {
      "cell_type": "code",
      "source": [
        "masked_embeddings.sum(dim=1).shape"
      ],
      "metadata": {
        "id": "acaOtMVYdCCE"
      },
      "execution_count": null,
      "outputs": []
    },
    {
      "cell_type": "code",
      "source": [
        "num_1s = resized_attention_mask.count_nonzero(dim=1)"
      ],
      "metadata": {
        "id": "a1Pat9F7dUfY"
      },
      "execution_count": null,
      "outputs": []
    },
    {
      "cell_type": "code",
      "source": [
        "num_1s.shape"
      ],
      "metadata": {
        "id": "TK5r5O73d0IJ"
      },
      "execution_count": null,
      "outputs": []
    },
    {
      "cell_type": "code",
      "source": [
        "mean_pooled_embeddings = masked_embeddings.sum(dim=1) / num_1s"
      ],
      "metadata": {
        "id": "Q8Z_2SPNeAJP"
      },
      "execution_count": null,
      "outputs": []
    },
    {
      "cell_type": "code",
      "source": [
        "mean_pooled_embeddings.shape"
      ],
      "metadata": {
        "id": "K6Ryq158eEIp"
      },
      "execution_count": null,
      "outputs": []
    },
    {
      "cell_type": "markdown",
      "source": [
        "## Use the mean pooled embeddings to calculate similarity\n"
      ],
      "metadata": {
        "id": "bsaMIuqieMgY"
      }
    },
    {
      "cell_type": "code",
      "source": [
        "with torch.no_grad():\n",
        "  sim_matrix = cosine_similarity(mean_pooled_embeddings, mean_pooled_embeddings)"
      ],
      "metadata": {
        "collapsed": true,
        "id": "aYFthESweGx0"
      },
      "execution_count": null,
      "outputs": []
    },
    {
      "cell_type": "code",
      "source": [
        "for i,j in [(i,j) for i in range(len(mean_pooled_embeddings)) for j in range(len(mean_pooled_embeddings)) if i!=j]:\n",
        "  print(sentences[i], \" VS \", sentences[j])\n",
        "  print(sim_matrix[i][j])"
      ],
      "metadata": {
        "id": "rLKaTmYpfyv_"
      },
      "execution_count": null,
      "outputs": []
    }
  ]
}